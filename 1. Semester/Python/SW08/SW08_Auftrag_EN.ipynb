{
 "cells": [
  {
   "cell_type": "markdown",
   "metadata": {},
   "source": [
    "# Assignment work SW08 - PYTHON BASICS  \n",
    "\n",
    "These are the self-study tasks for the semester week, which you will solve within a week in your JupyterHub environment. After completing your work, download a copy of the Jupyter notebook file locally to your laptop (right-click on the file in the JupyterHub file browser -> Download).\n",
    "\n",
    "On ILIAS you will find the corresponding scheduled work assignments every week, where you will upload your solved Jupyter notebook file. After you have submitted your work, you will receive a corresponding sample solution for the work assignment. Your submission will not be corrected. Although the work assignments are marked \"mandatory\", there are no tests in the module. The grades from the tests during the semester count.\n",
    "\n",
    "We wish you much success!"
   ]
  },
  {
   "cell_type": "markdown",
   "metadata": {},
   "source": [
    "# Math Tasks  \n"
   ]
  },
  {
   "cell_type": "markdown",
   "metadata": {},
   "source": [
    "## Task 1 - deg2rad\n",
    "\n",
    "- Define the **function** ``deg2rad(angle)`` which can convert the angle from **degrees** to **radians**. Use only standard operators (``+,-,...``)\n",
    "\n",
    "- Test this"
   ]
  },
  {
   "cell_type": "code",
   "execution_count": null,
   "metadata": {
    "vscode": {
     "languageId": "plaintext"
    }
   },
   "outputs": [],
   "source": []
  },
  {
   "cell_type": "markdown",
   "metadata": {},
   "source": [
    "# Task 2 - rad2deg\n",
    "\n",
    "- Define the inverse function `rad2deg(radians)`. Use only standard operators (``+,-,...``)\n",
    "- Test this"
   ]
  },
  {
   "cell_type": "code",
   "execution_count": null,
   "metadata": {
    "vscode": {
     "languageId": "plaintext"
    }
   },
   "outputs": [],
   "source": []
  },
  {
   "cell_type": "markdown",
   "metadata": {},
   "source": [
    "# Task 3 - Ball Surface\n",
    "\n",
    "- Define the function ``ball_surface(radius)``, which can calculate and **return** the **surface area of ​​a sphere**.\n",
    "- Give the function a **default value** of `` 5``\n",
    "- Test this"
   ]
  },
  {
   "cell_type": "code",
   "execution_count": null,
   "metadata": {
    "vscode": {
     "languageId": "plaintext"
    }
   },
   "outputs": [],
   "source": []
  },
  {
   "cell_type": "markdown",
   "metadata": {},
   "source": [
    "# Array tasks"
   ]
  },
  {
   "cell_type": "markdown",
   "metadata": {},
   "source": [
    "## Array Creation I\n",
    "\n",
    "Write a NumPy program to create a **3x3 matrix with values ​​between 2 and 10**. Assign the array to the variable ``arr_3d``.\n",
    "\n",
    "**Tip:**\n",
    "- ``np.arrange()``\n",
    "- ``np.reshape()``\n",
    "\n",
    "**Result:**\n",
    "\n",
    "```\n",
    "array([[ 2, 3, 4],\n",
    "[ 5, 6, 7],\n",
    "[ 8, 9, 10]])\n",
    "```"
   ]
  },
  {
   "cell_type": "code",
   "execution_count": null,
   "metadata": {
    "vscode": {
     "languageId": "plaintext"
    }
   },
   "outputs": [],
   "source": []
  },
  {
   "cell_type": "markdown",
   "metadata": {},
   "source": [
    "# Invert\n",
    "\n",
    "- Convert `arr_3d` to a **1D array**.\n",
    "- Assign the result to the variable `arr_1d`.\n",
    "\n",
    "**Result:**\n",
    "```\n",
    "array([ 2, 3, 4, 5, 6, 7, 8, 9, 10])\n",
    "```\n",
    "\n",
    "- **Invert** the order of the array (the first element becomes the last).\n",
    "\n",
    "\n",
    "**Result**:\n",
    "```\n",
    "array([10, 9, 8, 7, 6, 5, 4, 3, 2])\n",
    "```"
   ]
  },
  {
   "cell_type": "code",
   "execution_count": null,
   "metadata": {
    "vscode": {
     "languageId": "plaintext"
    }
   },
   "outputs": [],
   "source": []
  },
  {
   "cell_type": "markdown",
   "metadata": {},
   "source": [
    "## Read information\n",
    "Print the following information from the arrays `arr_3d` and `arr_1d`.\n",
    "\n",
    "- Shape\n",
    "- Number of elements\n",
    "- Number of dimensions"
   ]
  },
  {
   "cell_type": "code",
   "execution_count": null,
   "metadata": {
    "vscode": {
     "languageId": "plaintext"
    }
   },
   "outputs": [],
   "source": []
  },
  {
   "cell_type": "markdown",
   "metadata": {},
   "source": [
    "## Read values:\n",
    "\n",
    "Read the following values ​​from `arr_1d` **in one statement** (via slicing):\n",
    "\n",
    "- `[2,4,6]`\n",
    "- `[10,9,8,7]`\n",
    "\n",
    "Read the following values ​​from `arr_3d` **in a statement** (via slicing):\n",
    "\n",
    "- `[2,3,4]`\n",
    "- `[2,5,8]`\n",
    "- `[[6,7],[9,10]]`\n"
   ]
  },
  {
   "cell_type": "code",
   "execution_count": null,
   "metadata": {
    "vscode": {
     "languageId": "plaintext"
    }
   },
   "outputs": [],
   "source": []
  },
  {
   "cell_type": "markdown",
   "metadata": {},
   "source": [
    "## Array Arithmetic I\n",
    "\n",
    "Create the following array & output it\n",
    "\n",
    "![Alt ​​text](imgs/array_zeros.png)"
   ]
  },
  {
   "cell_type": "code",
   "execution_count": null,
   "metadata": {
    "vscode": {
     "languageId": "plaintext"
    }
   },
   "outputs": [],
   "source": []
  },
  {
   "cell_type": "markdown",
   "metadata": {},
   "source": [
    "## Array manipulation\n",
    "\n",
    "1. **Transpose** the given array and store it in a new variable.\n",
    "- Print the **shape** of both arrays.\n",
    "\n",
    "2. Perform a **matrix multiplication** of the given and the transposed array.\n",
    "- Store the result as a new variable (`z`).\n",
    "- Print the **form** of `z`\n",
    "- Return the **number of dimensions** of `z`\n",
    "\n",
    "3. **Reform`z`** into the form ``(10,10,1)``.\n",
    "- Print the form of `z`\n",
    "- Print the number of dimensions of `z`\n",
    "\n",
    "4. **Type conversion:**\n",
    "- Print the type of array `z`\n",
    "- convert the array type to a `float`\n",
    "- convert the type of the array to a `bool`\n",
    "- what happens?"
   ]
  },
  {
   "cell_type": "code",
   "execution_count": null,
   "metadata": {
    "vscode": {
     "languageId": "plaintext"
    }
   },
   "outputs": [],
   "source": []
  },
  {
   "cell_type": "markdown",
   "metadata": {},
   "source": [
    "# Text comprehension + Python\n",
    "\n",
    "In a bakery, **three** different types of **dough** $T_1, T_2, T_3$ are made from **four** different\n",
    "**Types of flour** $M_1, M_2, M_3, M_4$ are produced. From the dough types **three** different\n",
    "Types of **bread** $B_1, B_2, B_3$ baked.\n",
    "\n",
    "The following **tables** show:\n",
    "\n",
    "1. How many units of **each type of flour** are needed **per unit of dough** of the different **dough types**\n",
    "2. How many units of **each type of dough** are needed per **loaf of bread**:\n",
    "\n",
    "![text_1](imgs/text_1_eng.png)\n",
    "\n",
    "\n",
    "Let $A$ be the $(4 × 3)$ matrix from the **first table (left)** and $B$ be the $(3 × 3)$ matrix\n",
    "from the **second table**.\n",
    "\n",
    "## Task\n",
    "\n",
    "- Create the two Maritzen $A$ and $B$\n",
    "\n",
    "- Calculate $C$ which is the matrix describing the number of units of **flour**\n",
    "that is needed for a loaf of **bread** of type $B$ : Express the matrix $C$\n",
    "by $A$ and $B$. **Give reasons for your answer**\n",
    "\n",
    "- What shape does $C$ have?\n",
    "\n",
    "- What does an arbitrary entry in $C_{ij}$ describe\n"
   ]
  },
  {
   "cell_type": "code",
   "execution_count": null,
   "metadata": {
    "vscode": {
     "languageId": "plaintext"
    }
   },
   "outputs": [],
   "source": []
  },
  {
   "cell_type": "markdown",
   "metadata": {},
   "source": [
    "# Mathematics with arrays\n",
    "\n",
    "\n",
    "## Task 1\n",
    "Create ``Numpy Arrays`` for all the following matrices. Use **like-named** `variables` for the different matrices.\n",
    "\n",
    "\n",
    "\n",
    "**EXAMPLE:**\n",
    "\n",
    "```python\n",
    "M = np.array(...)\n",
    "```\n",
    "\n",
    "![task_1](imgs/matritzen_1.png)\n",
    "\n",
    "\n",
    "\n",
    "**Questions:**\n",
    "- What shape does `R` have?"
   ]
  },
  {
   "cell_type": "code",
   "execution_count": null,
   "metadata": {
    "vscode": {
     "languageId": "plaintext"
    }
   },
   "outputs": [],
   "source": []
  },
  {
   "cell_type": "markdown",
   "metadata": {},
   "source": [
    "## Task 2\n",
    "\n",
    "Also calculate:\n",
    "\n",
    "![augabe2](imgs/matritzen_2.png)\n",
    "\n",
    "Use only **standard operators**"
   ]
  },
  {
   "cell_type": "code",
   "execution_count": null,
   "metadata": {
    "vscode": {
     "languageId": "plaintext"
    }
   },
   "outputs": [],
   "source": []
  },
  {
   "cell_type": "markdown",
   "metadata": {},
   "source": [
    "# Manual Mathematics\n",
    "\n",
    "Do the following calculations **by hand**:\n",
    "\n",
    "**Given** are the following matrices:\n",
    "\n",
    "![manual_1](imgs/manual_task_1.png)\n",
    "\n",
    "Which of the following **calculations** are **possible**? Calculate them.\n",
    "Please note that you have to perform **matrix multiplication**.\n",
    "\n",
    "![manual_1_1](imgs/manual_task_1_1.png)\n",
    "\n",
    "\n",
    "\n",
    "\n"
   ]
  },
  {
   "cell_type": "code",
   "execution_count": null,
   "metadata": {
    "vscode": {
     "languageId": "plaintext"
    }
   },
   "outputs": [],
   "source": []
  }
 ],
 "metadata": {
  "kernelspec": {
   "display_name": "base",
   "language": "python",
   "name": "python3"
  },
  "language_info": {
   "codemirror_mode": {
    "name": "ipython",
    "version": 3
   },
   "file_extension": ".py",
   "mimetype": "text/x-python",
   "name": "python",
   "nbconvert_exporter": "python",
   "pygments_lexer": "ipython3",
   "version": "3.10.13"
  }
 },
 "nbformat": 4,
 "nbformat_minor": 2
}
