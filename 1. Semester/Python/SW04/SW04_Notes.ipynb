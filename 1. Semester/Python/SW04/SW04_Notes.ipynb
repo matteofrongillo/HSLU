{
 "cells": [
  {
   "cell_type": "markdown",
   "metadata": {},
   "source": [
    "## Rounding with f-string"
   ]
  },
  {
   "cell_type": "code",
   "execution_count": 7,
   "metadata": {},
   "outputs": [
    {
     "name": "stdout",
     "output_type": "stream",
     "text": [
      "rounded number = 123.235\n",
      "scientific notation = 1.23e+02\n"
     ]
    }
   ],
   "source": [
    "i = 123.234567890\n",
    "\n",
    "print(f\"rounded number = {i:.3f}\")\n",
    "print(f\"scientific notation = {i:.3}\")"
   ]
  },
  {
   "cell_type": "markdown",
   "metadata": {},
   "source": [
    "## Lists"
   ]
  },
  {
   "cell_type": "code",
   "execution_count": 34,
   "metadata": {},
   "outputs": [
    {
     "name": "stdout",
     "output_type": "stream",
     "text": [
      "piciobanano\n",
      "piciobanano\n",
      "piciobanano\n",
      "piciobanano\n",
      "piciobanano\n",
      "piciobanano\n",
      "piciobanano\n",
      "piciobanano\n",
      "piciobanano\n",
      "piciobanano\n",
      "gay\n",
      "gay\n",
      "gay\n",
      "gay\n",
      "gay\n",
      "gay\n",
      "gay\n",
      "gay\n",
      "gay\n",
      "gay\n",
      "gay\n"
     ]
    }
   ],
   "source": [
    "i = []\n",
    "i.append(\"piciobanano\")\n",
    "\n",
    "for a in range(10):\n",
    "    print(i[0])\n",
    "\n",
    "j = [\"gay\"]\n",
    "for letter in \"Diobestiale\":\n",
    "    print(j[0])"
   ]
  },
  {
   "cell_type": "markdown",
   "metadata": {},
   "source": [
    "## Print in line and not in column"
   ]
  },
  {
   "cell_type": "code",
   "execution_count": 36,
   "metadata": {},
   "outputs": [
    {
     "name": "stdout",
     "output_type": "stream",
     "text": [
      " letter\n",
      " letter letter\n",
      " letter letter letter\n",
      " letter letter letter letter\n",
      " letter letter letter letter letter\n",
      " letter letter letter letter letter letter\n",
      " letter letter letter letter letter letter letter\n",
      " letter letter letter letter letter letter letter letter\n",
      " letter letter letter letter letter letter letter letter letter\n"
     ]
    }
   ],
   "source": [
    "i = \"\"\n",
    "for letter in enumerate(\"pisellone\"):\n",
    "    i += f\" letter\"\n",
    "\n",
    "    print(i)"
   ]
  }
 ],
 "metadata": {
  "kernelspec": {
   "display_name": "Python 3",
   "language": "python",
   "name": "python3"
  },
  "language_info": {
   "codemirror_mode": {
    "name": "ipython",
    "version": 3
   },
   "file_extension": ".py",
   "mimetype": "text/x-python",
   "name": "python",
   "nbconvert_exporter": "python",
   "pygments_lexer": "ipython3",
   "version": "3.12.6"
  }
 },
 "nbformat": 4,
 "nbformat_minor": 2
}
