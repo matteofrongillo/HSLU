{
 "cells": [
  {
   "cell_type": "markdown",
   "metadata": {},
   "source": [
    "# SW09 - Flipped Classroom\n",
    "\n",
    "*This Jupyter notebook is intended for practicing the theory accompanying the slides and is used as a “practical review of the theory input”. There are no sample solutions and the file is not corrected and does not have to be handed in.*\n",
    "\n",
    "In SW09, the theory notebook includes the code snippets from the lecture notes [SW09_DescriptiveStatistics](SW09_DescriptiveStatistics.pdf) so that they can be easily tested and modified if necessary."
   ]
  },
  {
   "cell_type": "markdown",
   "metadata": {},
   "source": [
    "***\n",
    "\n",
    "## Chapter 1.1 Descriptive statistics of one-dimensional data\n",
    "\n",
    "\n",
    "### Example 1.1.4\n",
    "\n",
    "Determining the mean value of a [pandas](https://pandas.pydata.org/) [series](https://pandas.pydata.org/docs/reference/series.html) of data."
   ]
  },
  {
   "cell_type": "code",
   "execution_count": null,
   "metadata": {},
   "outputs": [],
   "source": [
    "from pandas import Series, DataFrame\n",
    "import pandas as pd\n",
    "methodeA = Series([79.98, 80.04, 80.02, 80.04, 80.03, 80.03, 80.04, 79.97, 80.05, 80.03, 80.02, 80.00, 80.02])\n",
    "print(methodeA.mean())\n",
    "methodeA.mean()\n"
   ]
  },
  {
   "cell_type": "markdown",
   "metadata": {},
   "source": [
    "### Example 1.1.6\n",
    "\n",
    "Determining the variance and standard deviation of a [pandas](https://pandas.pydata.org/) [series](https://pandas.pydata.org/docs/reference/series.html) of data."
   ]
  },
  {
   "cell_type": "code",
   "execution_count": null,
   "metadata": {},
   "outputs": [],
   "source": [
    "methodeA.var()"
   ]
  },
  {
   "cell_type": "code",
   "execution_count": null,
   "metadata": {},
   "outputs": [],
   "source": [
    "methodeA.std()"
   ]
  },
  {
   "cell_type": "markdown",
   "metadata": {},
   "source": [
    "### Example 1.1.7\n",
    "\n",
    "Sorting and determining the median of a [pandas](https://pandas.pydata.org/) [series](https://pandas.pydata.org/docs/reference/series.html) of data."
   ]
  },
  {
   "cell_type": "code",
   "execution_count": null,
   "metadata": {},
   "outputs": [],
   "source": [
    "methodeA.sort_values()"
   ]
  },
  {
   "cell_type": "code",
   "execution_count": null,
   "metadata": {},
   "outputs": [],
   "source": [
    "methodeA.median()"
   ]
  },
  {
   "cell_type": "code",
   "execution_count": null,
   "metadata": {},
   "outputs": [],
   "source": [
    "methodeB = Series([80.02, 79.94, 79.98, 79.97, 79.97, 80.03, 79.95, 79.97])\n",
    "methodeB.median()"
   ]
  },
  {
   "cell_type": "markdown",
   "metadata": {},
   "source": [
    "### Example 1.1.10\n",
    "\n",
    "Determination of lower (`0.25`) and upper (`0.75`) quartiles of a [pandas](https://pandas.pydata.org/) [series](https://pandas.pydata.org/docs/reference/series.html) of data."
   ]
  },
  {
   "cell_type": "code",
   "execution_count": null,
   "metadata": {},
   "outputs": [],
   "source": [
    "methodeA.quantile(q=.25)"
   ]
  },
  {
   "cell_type": "code",
   "execution_count": null,
   "metadata": {},
   "outputs": [],
   "source": [
    "methodeA.quantile(q=.75)"
   ]
  },
  {
   "cell_type": "markdown",
   "metadata": {},
   "source": [
    "### Example 1.1.11\n",
    "\n",
    "Using the different definitions to determine the quartiles of a [pandas](https://pandas.pydata.org/) [series](https://pandas.pydata.org/docs/reference/series.html) of data."
   ]
  },
  {
   "cell_type": "code",
   "execution_count": null,
   "metadata": {},
   "outputs": [],
   "source": [
    "print(methodeA.quantile(q=.25, interpolation=\"linear\"))\n",
    "print(methodeA.quantile(q=.25, interpolation=\"lower\"))\n",
    "print(methodeA.quantile(q=.25, interpolation=\"higher\"))\n",
    "print(methodeA.quantile(q=.25, interpolation=\"midpoint\"))\n",
    "print(methodeA.quantile(q=.25, interpolation=\"nearest\"))\n"
   ]
  },
  {
   "cell_type": "code",
   "execution_count": null,
   "metadata": {},
   "outputs": [],
   "source": [
    "print(methodeB.quantile(q=.25, interpolation=\"linear\"))\n",
    "print(methodeB.quantile(q=.25, interpolation=\"lower\"))\n",
    "print(methodeB.quantile(q=.25, interpolation=\"higher\"))\n",
    "print(methodeB.quantile(q=.25, interpolation=\"midpoint\"))\n",
    "print(methodeB.quantile(q=.25, interpolation=\"nearest\"))"
   ]
  },
  {
   "cell_type": "markdown",
   "metadata": {},
   "source": [
    "### Example 1.1.12\n",
    "\n",
    "Determination of the quartile difference of a [pandas](https://pandas.pydata.org/) [series](https://pandas.pydata.org/docs/reference/series.html) of data."
   ]
  },
  {
   "cell_type": "code",
   "execution_count": null,
   "metadata": {},
   "outputs": [],
   "source": [
    "q75, q25 = methodeA.quantile(q = [.75, .25])\n",
    "iqr = q75 - q25\n",
    "iqr"
   ]
  },
  {
   "cell_type": "markdown",
   "metadata": {},
   "source": [
    "### Examples 1.1.14 and 1.1.15\n",
    "\n",
    "Determination of different quantiles of a [pandas](https://pandas.pydata.org/) [series](https://pandas.pydata.org/docs/reference/series.html) of data."
   ]
  },
  {
   "cell_type": "code",
   "execution_count": null,
   "metadata": {},
   "outputs": [],
   "source": [
    "print(methodeA.quantile(q=.1))\n",
    "print(methodeA.quantile(q=.7))"
   ]
  },
  {
   "cell_type": "code",
   "execution_count": null,
   "metadata": {},
   "outputs": [],
   "source": [
    "import numpy as np\n",
    "noten = Series([4.2, 2.3, 5.6, 4.5, 4.8, 3.9, 5.9, 2.4, 5.9, 6, 4, 3.7, 5, 5.2, 4.5, 3.6, 5, 6, 2.8, 3.3, 5.5, 4.2, 4.9, 5.1])\n",
    "noten.quantile(q = np.linspace(start=.2, stop=1, num=5))"
   ]
  },
  {
   "cell_type": "markdown",
   "metadata": {},
   "source": [
    "***\n",
    "### Chapter 1.1.5 - Graphical method"
   ]
  },
  {
   "cell_type": "markdown",
   "metadata": {},
   "source": [
    "### Example 1.1.17\n",
    "\n",
    "Representation of the histogram of a [pandas](https://pandas.pydata.org/) [series](https://pandas.pydata.org/docs/reference/series.html) of data."
   ]
  },
  {
   "cell_type": "code",
   "execution_count": null,
   "metadata": {},
   "outputs": [],
   "source": [
    "import pandas as pd\n",
    "from pandas import DataFrame, Series\n",
    "import matplotlib.pyplot as plt\n",
    "\n",
    "methodeA = Series([79.98, 80.04, 80.02, 80.04, 80.03, 80.03,\n",
    "80.04, 79.97, 80.05, 80.03, 80.02, 80.00, 80.02])\n",
    "\n",
    "methodeB = Series([80.02, 79.94, 79.98, 79.97, 79.97, 80.03,\n",
    "79.95, 79.97])\n",
    "\n",
    "methodeA.plot(kind=\"hist\", edgecolor=\"black\")\n",
    "\n",
    "plt.title(\"Histogram of method A\")\n",
    "plt.xlabel(\"methodeA\")\n",
    "plt.ylabel(\"Frequency\")\n",
    "\n",
    "plt.show()"
   ]
  },
  {
   "cell_type": "markdown",
   "metadata": {},
   "source": [
    "### Example 1.1.18\n",
    "\n",
    "Representation of the normalized histogram of a [pandas](https://pandas.pydata.org/) [series](https://pandas.pydata.org/docs/reference/series.html) of data."
   ]
  },
  {
   "cell_type": "code",
   "execution_count": null,
   "metadata": {},
   "outputs": [],
   "source": [
    "methodeA.plot(kind=\"hist\", density=True, edgecolor=\"black\")\n",
    "\n",
    "plt.title(\"Normalized histogram of methode A\")\n",
    "plt.xlabel(\"methodeA\")\n",
    "plt.ylabel(\"Relative frequency\")\n",
    "\n",
    "plt.show()"
   ]
  },
  {
   "cell_type": "markdown",
   "metadata": {},
   "source": [
    "### Example 1.1.19\n",
    "\n",
    "Boxplot of a [pandas](https://pandas.pydata.org/) [series](https://pandas.pydata.org/docs/reference/series.html) of data."
   ]
  },
  {
   "cell_type": "code",
   "execution_count": null,
   "metadata": {},
   "outputs": [],
   "source": [
    "methodeA.plot(kind=\"box\", title=\"Boxplot methode A\")\n",
    "\n",
    "plt.show()"
   ]
  },
  {
   "cell_type": "markdown",
   "metadata": {},
   "source": [
    "### Example 1.1.20\n",
    "\n",
    "Boxplot of the data of a [panda](https://pandas.pydata.org/) [DataFrames](https://pandas.pydata.org/docs/reference/frame.html)."
   ]
  },
  {
   "cell_type": "code",
   "execution_count": null,
   "metadata": {},
   "outputs": [],
   "source": [
    "methode = DataFrame({\n",
    "\"methodeA\": methodeA,\n",
    "\"methodeB\": methodeB\n",
    "})\n",
    "print(methode)\n",
    "\n",
    "methode.plot(kind=\"box\", title=\"Boxplot of methods A and B\")\n",
    "\n",
    "plt.show()"
   ]
  },
  {
   "cell_type": "markdown",
   "metadata": {},
   "source": [
    "### Example 1.1.23\n",
    "\n",
    "Cumulative histogram of a [pandas](https://pandas.pydata.org/) [series](https://pandas.pydata.org/docs/reference/series.html) of data."
   ]
  },
  {
   "cell_type": "code",
   "execution_count": null,
   "metadata": {},
   "outputs": [],
   "source": [
    "methodeA.plot(kind=\"hist\", cumulative=True, histtype=\"step\",\n",
    "density=True, bins=8, edgecolor=\"black\")"
   ]
  },
  {
   "cell_type": "markdown",
   "metadata": {},
   "source": [
    "### Beispiel 1.1.23\n",
    "\n",
    "Kumulatives Histogramm einer [pandas](https://pandas.pydata.org/) [Serie](https://pandas.pydata.org/docs/reference/series.html) von Daten."
   ]
  },
  {
   "cell_type": "code",
   "execution_count": null,
   "metadata": {},
   "outputs": [],
   "source": [
    "import pandas as pd\n",
    "from pandas import DataFrame, Series\n",
    "import numpy as np\n",
    "\n",
    "mort = DataFrame({\n",
    "\"wine\": ([2.8, 3.2, 3.2, 3.4, 4.3, 4.9, 5.1, 5.2, 5.9, 5.9,\n",
    "6.6, 8.3, 12.6, 15.1, 25.1, 33.1, 75.9, 75.9]),\n",
    "\"mor\": ([6.2, 9.0, 7.1, 6.8, 10.2, 7.8, 9.3, 5.9, 8.9, 5.5,\n",
    "7.1, 9.1, 5.1, 4.7, 4.7, 3.1, 3.2, 2.1])\n",
    "})\n",
    "\n",
    "mort.plot(kind=\"scatter\", x=\"wine\", y=\"mor\")\n",
    "plt.xlabel(\"Wine consumption (liters per year and person)\")\n",
    "plt.ylabel(\"Mortality\")\n",
    "\n",
    "plt.show()"
   ]
  },
  {
   "cell_type": "markdown",
   "metadata": {},
   "source": [
    "### Examples 1.2.3 and 1.2.4\n",
    "\n",
    "Scatter plot and linear regression of the data of a [panda](https://pandas.pydata.org/) [DataFrames](https://pandas.pydata.org/docs/reference/frame.html)."
   ]
  },
  {
   "cell_type": "code",
   "execution_count": null,
   "metadata": {},
   "outputs": [],
   "source": [
    "book = DataFrame({\n",
    "\"pages\" : np.linspace(50,500,10),\n",
    "\"price\" : [6.4, 9.5, 15.6, 15.1, 17.8, 23.4,\n",
    "23.4, 22.5, 26.1, 29.1]\n",
    "})\n",
    "book.plot(kind=\"scatter\", x=\"pages\", y=\"price\")\n",
    "plt.xlabel(\"Page number\")\n",
    "plt.ylabel(\"Book price\")\n",
    "plt.show()"
   ]
  },
  {
   "cell_type": "code",
   "execution_count": null,
   "metadata": {},
   "outputs": [],
   "source": [
    "b, a = np.polyfit(book[\"pages\"], book[\"price\"], deg=1)\n",
    "print(a, b)"
   ]
  },
  {
   "cell_type": "code",
   "execution_count": null,
   "metadata": {},
   "outputs": [],
   "source": [
    "book.plot(kind=\"scatter\", x=\"pages\", y=\"price\")\n",
    "b, a = np.polyfit(book[\"pages\"], book[\"price\"], deg=1)\n",
    "\n",
    "x = np.linspace(book[\"pages\"].min() ,book[\"pages\"].max())\n",
    "\n",
    "plt.plot(x, a+b*x, c=\"orange\")\n",
    "plt.xlabel(\"Page number\")\n",
    "plt.ylabel(\"Book price\")\n",
    "\n",
    "plt.show()\n"
   ]
  },
  {
   "cell_type": "code",
   "execution_count": null,
   "metadata": {},
   "outputs": [],
   "source": [
    "x = np.linspace(book[\"pages\"].min(), book[\"pages\"].max())\n",
    "x"
   ]
  },
  {
   "cell_type": "markdown",
   "metadata": {},
   "source": [
    "### Example 1.2.10\n",
    "\n",
    "Importing and determining the empirical covariance of the data of a [pandas](https://pandas.pydata.org/) [DataFrames](https://pandas.pydata.org/docs/reference/frame.html)."
   ]
  },
  {
   "cell_type": "code",
   "execution_count": null,
   "metadata": {},
   "outputs": [],
   "source": [
    "import matplotlib.pyplot as plt\n",
    "import numpy as np\n",
    "import pandas as pd\n",
    "from pandas import Series, DataFrame\n",
    "\n",
    "df = pd.read_table(\"Herald.dat\")\n",
    "\n",
    "print(df.head())\n"
   ]
  },
  {
   "cell_type": "code",
   "execution_count": null,
   "metadata": {},
   "outputs": [],
   "source": [
    "import matplotlib.pyplot as plt\n",
    "import numpy as np\n",
    "import pandas as pd\n",
    "from pandas import Series, DataFrame\n",
    "\n",
    "df = pd.read_table(\"Herald.dat\")\n",
    "\n",
    "df.plot(kind=\"scatter\", x=\"CO\", y=\"Benzoa\")\n",
    "\n",
    "plt.plot((2.5, 20), (df[\"Benzoa\"].mean(), df[\"Benzoa\"].mean()), c=\"orange\")\n",
    "\n",
    "plt.plot((df[\"CO\"].mean(), df[\"CO\"].mean()), (0, 10), c=\"orange\")\n",
    "\n",
    "plt.ylabel(\"Benzoapyrene\")\n",
    "plt.show()\n",
    "\n",
    "df.cov()"
   ]
  },
  {
   "cell_type": "markdown",
   "metadata": {},
   "source": [
    "### Example 1.2.11\n",
    "\n",
    "Determination of the empirical correlation of the data of a [panda](https://pandas.pydata.org/) [DataFrames](https://pandas.pydata.org/docs/reference/frame.html)."
   ]
  },
  {
   "cell_type": "code",
   "execution_count": null,
   "metadata": {},
   "outputs": [],
   "source": [
    "book.corr().iloc[0,1]\n"
   ]
  },
  {
   "cell_type": "code",
   "execution_count": null,
   "metadata": {},
   "outputs": [],
   "source": [
    "book.corr()"
   ]
  },
  {
   "cell_type": "code",
   "execution_count": null,
   "metadata": {},
   "outputs": [],
   "source": [
    "df.corr()\n"
   ]
  },
  {
   "cell_type": "code",
   "execution_count": null,
   "metadata": {},
   "outputs": [],
   "source": []
  }
 ],
 "metadata": {
  "kernelspec": {
   "display_name": "Python 3 (ipykernel)",
   "language": "python",
   "name": "python3"
  },
  "language_info": {
   "codemirror_mode": {
    "name": "ipython",
    "version": 3
   },
   "file_extension": ".py",
   "mimetype": "text/x-python",
   "name": "python",
   "nbconvert_exporter": "python",
   "pygments_lexer": "ipython3",
   "version": "3.8.18"
  }
 },
 "nbformat": 4,
 "nbformat_minor": 4
}
