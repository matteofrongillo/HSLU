{
 "cells": [
  {
   "cell_type": "markdown",
   "id": "0c585592",
   "metadata": {},
   "source": [
    "# Arbeitsauftrag SW10 - PYTHON BASICS\n",
    "\n",
    "Dies sind die Selbst-Studium-Aufgaben der Semesterwoche, welche Sie binnen einer Woche in Ihrer JupyterHub Umgebung lösen werden. Nach dem Fertigstellen Ihrer Arbeit laden Sie eine Kopie des Jupyter-Notebook-Files lokal auf Ihren Laptop (Menu: File->Download).\n",
    "\n",
    "Auf ILIAS finden Sie wöchentlich den entsprechenden terminierten Arbeitsauftrag, wo Sie Ihr gelöstes Jupyter-Notebook File hochladen werden. Nach Ihrer Abgabe bekommen Sie eine entsprechende Musterlösung zum Arbeitsauftrag. Ihre Abgabe wird nicht korrigiert. Obwohl die Arbeitsaufträge \"verpflichtend\" markiert sind, zählen diese nicht zu den Semesterleistungen. Hierfür sind nur die Noten der Tests während des Semesters relevant. \n",
    "\n",
    "Wir wünschen Ihnen viel Erfolg!"
   ]
  },
  {
   "cell_type": "markdown",
   "id": "b5b2fec7",
   "metadata": {},
   "source": [
    "---\n",
    "---\n",
    "## Aufgabe 1\n",
    "a) Simulieren Sie $1000$ Würfe einer *unfairen* Münze, d.h. eine, bei der $0$ und $1$ nicht gleich häufig fallen. Konkret soll\n",
    "\n",
    "$$\n",
    "P(0)=0.3 \\qquad \\text{und} \\qquad P(1)=0.7\n",
    "$$\n",
    "\n",
    "gelten. Als Parameter `p` der Methode `numpy.choice()` kann man ein Array mit den Wahrscheinlichkeiten mitgeben.\n",
    "\n",
    "### Lösung:"
   ]
  },
  {
   "cell_type": "code",
   "execution_count": null,
   "id": "707451f8",
   "metadata": {},
   "outputs": [],
   "source": []
  },
  {
   "cell_type": "markdown",
   "id": "4c8bdb4d",
   "metadata": {},
   "source": [
    "b) Plotten Sie ein Balkendiagramm mit den relativen Häufigkeiten. Entspricht das Ergebnis Ihren Erwartungen?\n",
    "\n",
    "### Lösung:"
   ]
  },
  {
   "cell_type": "code",
   "execution_count": null,
   "id": "a71cb648",
   "metadata": {},
   "outputs": [],
   "source": []
  },
  {
   "cell_type": "markdown",
   "id": "02d85db3",
   "metadata": {},
   "source": [
    "Interpretation:"
   ]
  },
  {
   "cell_type": "markdown",
   "id": "ddeb1858",
   "metadata": {},
   "source": [
    "c) Nehmen Sie die konsekutiven Differenzen der Folge und plotten Sie wieder ein Balkendiagramm ihrer relativen Häufigkeiten. Überlegen Sie sich qualitativ, warum Sie dieses Ergebnis erhalten. Die genaue Berechnung werden wir später lernen.\n",
    "\n",
    "### Lösung:"
   ]
  },
  {
   "cell_type": "code",
   "execution_count": null,
   "id": "b6dd8768",
   "metadata": {},
   "outputs": [],
   "source": []
  },
  {
   "cell_type": "markdown",
   "id": "74ca67c1",
   "metadata": {},
   "source": [
    "Interpretation:"
   ]
  },
  {
   "cell_type": "markdown",
   "id": "65c6b305",
   "metadata": {},
   "source": [
    "## Aufgabe 2\n",
    "Ein Würfel wurde so gezinkt, dass jede ungerade Augenzahlen doppelt so wahrscheinlich erscheint wie jede gerade Augenzahl. Alle geraden Augenzahlen sind gleich wahrscheinlich. Der Würfel wird ein mal geworfen.\n",
    "\n",
    "a) Beschreiben Sie den Ereignisraum in Form von Elementarereignissen.\n",
    "\n",
    "### Lösung:"
   ]
  },
  {
   "cell_type": "markdown",
   "id": "03d4825a",
   "metadata": {},
   "source": []
  },
  {
   "cell_type": "markdown",
   "id": "25899f4e",
   "metadata": {},
   "source": [
    "b) Berechnen Sie die Wahrscheinlichkeit für jedes Elementarereignis.\n",
    "\n",
    "### Lösung:"
   ]
  },
  {
   "cell_type": "markdown",
   "id": "cc68c504",
   "metadata": {},
   "source": []
  },
  {
   "cell_type": "markdown",
   "id": "1938e955",
   "metadata": {},
   "source": [
    "c) Berechnen Sie die Wahrscheinlichkeit, dass eine Zahl kleiner als $4$ gewürfelt wird.\n",
    "\n",
    "### Lösung:"
   ]
  },
  {
   "cell_type": "markdown",
   "id": "8d519d0d",
   "metadata": {},
   "source": []
  },
  {
   "cell_type": "markdown",
   "id": "7f2ca859",
   "metadata": {},
   "source": [
    "d) Simulieren Sie $1000$ Würfe mit diesem Würfel und prüfen Sie an Hand der Simulation Ihre Ergebnisse aus den Teilen b) und c) auf Plausibilität.\n",
    "\n",
    "### Lösung:"
   ]
  },
  {
   "cell_type": "code",
   "execution_count": null,
   "id": "68b9b4e4",
   "metadata": {},
   "outputs": [],
   "source": []
  },
  {
   "cell_type": "markdown",
   "id": "e3f8bd07-6a8d-4ea8-98bf-b6501574411e",
   "metadata": {},
   "source": [
    "## Aufgabe 3\n",
    "\n",
    "a) Auf einer Geburtstagsparty befinden sich $56$ Personen. Wie gross ist die Wahrscheinlichkeit, dass an dem Tag mindestens eine zweite Person Geburtstag hat?\n",
    "\n",
    "b) Wie viele Leute müssen auf der Party sein, damit mit einer mindestens $50\\%$ Wahrscheinlichkeit eine weitere Person an dem Tag Geburtstag hat?\n",
    "\n",
    "c) Nehmen Sie an, in einem Raum befinden sich $56$ Personen. Wie gross ist die Wahrscheinlichkeit, dass mindestens zwei Personen am selben Tag Geburtstag haben?\n",
    "\n",
    "### Lösung:"
   ]
  },
  {
   "cell_type": "markdown",
   "id": "5ff8934a-679b-4b5d-9f6e-df59eb5955fc",
   "metadata": {},
   "source": [
    "\n",
    "\n",
    "Die Zahlen sind"
   ]
  },
  {
   "cell_type": "code",
   "execution_count": null,
   "id": "bf53d68f-2ec5-4dfc-bbdf-52c62f198035",
   "metadata": {},
   "outputs": [],
   "source": []
  },
  {
   "cell_type": "markdown",
   "id": "2c15ab07-9c1a-47a9-a320-f72a995d858d",
   "metadata": {},
   "source": [
    "## Aufgabe 4\n",
    "Poker wird gespielt mit dem anglo-amerikanischen Blatt, das von den $4$ Farben Karo, Herz, Pik, Kreuz jeweils $13$ Karten mit unterschiedlichem Wert umfasst: $2$ bis $10$, Bube, Dame, König, Ass. Jeder Spielende bekommt $5$ zufällige Karten ausgeteilt. Wir nehmen dabei an, dass jede Karte dieselbe Wahrscheinlichkeit hat. Berechnen Sie die Wahrscheinlichkeit für folgende Blätter:\n",
    "\n",
    "a) **Royal Flush**: $10$, Bube, Dame, König, Ass von derselben Farbe\n",
    "\n",
    "b) **Vierling**: Vier Karten des gleichen Werts\n",
    "\n",
    "c) **Full House**: Ein Drilling (drei Karten des gleichen Werts) und ein Paar (zwei Karten des gleichen Werts\n",
    "\n",
    "### Lösung:"
   ]
  },
  {
   "cell_type": "markdown",
   "id": "bb83c341-ec21-476b-b76f-33ea56109e40",
   "metadata": {},
   "source": [
    "\n",
    "\n",
    "Die Zahlen sind"
   ]
  },
  {
   "cell_type": "code",
   "execution_count": null,
   "id": "35f47c87-a941-4066-8e65-2ff09961446d",
   "metadata": {},
   "outputs": [],
   "source": []
  }
 ],
 "metadata": {
  "kernelspec": {
   "display_name": "Python 3 (ipykernel)",
   "language": "python",
   "name": "python3"
  },
  "language_info": {
   "codemirror_mode": {
    "name": "ipython",
    "version": 3
   },
   "file_extension": ".py",
   "mimetype": "text/x-python",
   "name": "python",
   "nbconvert_exporter": "python",
   "pygments_lexer": "ipython3",
   "version": "3.8.18"
  }
 },
 "nbformat": 4,
 "nbformat_minor": 5
}
