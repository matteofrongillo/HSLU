{
 "cells": [
  {
   "cell_type": "markdown",
   "id": "566779e2-f4b2-4fea-b87d-dc6068f5338e",
   "metadata": {},
   "source": [
    "# Work assignment SW09 - PYTHON BASICS\n",
    "\n",
    "These are the self-study tasks of the semester week, which you will solve within one week in your JupyterHub environment. After completing your work, download a copy of the Jupyter notebook file locally to your laptop (Menu: File->Download).\n",
    "\n",
    "On ILIAS you will find the weekly scheduled assignment where you will upload your solved Jupyter notebook file. After your submission, you will receive a corresponding sample solution to the assignment. Your submission will not be corrected. Although the assignments are marked “mandatory”, they do not count towards your semester grades. Only the grades of the tests during the semester are relevant for this. \n",
    "\n",
    "We wish you every success!\n"
   ]
  },
  {
   "cell_type": "markdown",
   "id": "4d6c713a-cfe6-4d8f-8b0b-a5dc2b5922e2",
   "metadata": {},
   "source": [
    "---\n",
    "---\n",
    "## Exercise 1\n",
    "Significant digits and decimal places\n",
    "\n",
    "---\n",
    "a) Determine the number of significant digits and the number of decimal places of the measured value:\n",
    "\n",
    "- $3.709 \\mskip3mu kg$\n",
    "- $0.37090 \\mskip3mu g$\n",
    "- $1.2 \\cdot 10^3 \\mskip3mu dm^2$\n",
    "- $1200 \\mskip3mu dm^2$\n",
    "\n",
    "### Solution"
   ]
  },
  {
   "cell_type": "markdown",
   "id": "5d0b392e-9d67-4e8f-bfd4-3f10ee1b1935",
   "metadata": {},
   "source": []
  },
  {
   "cell_type": "markdown",
   "id": "20738f8a-f7da-4c8b-a443-68b53846276a",
   "metadata": {},
   "source": [
    "---\n",
    "---\n",
    "## Task 2\n",
    "\n",
    "Accuracy of a calculation result\n",
    "\n",
    "You have two measured values, $m_1 = 130.2 \\mskip3mu g$ and $m_2 = 92.56 \\mskip3mu kg$.\n",
    "\n",
    "a) Which of the two values has the higher *relative* accuracy?\n",
    "\n",
    "b) Which of the two values has the higher *absolute* accuracy?\n",
    "\n",
    "c) Determine the result of the calculations $\\frac{m_1}{m_2}$ and $m_1+m_2$ to a reasonable number of digits.\n",
    "\n",
    "### Solution"
   ]
  },
  {
   "cell_type": "markdown",
   "id": "99c027fb-613b-4a37-8843-4c2a5a76f162",
   "metadata": {},
   "source": []
  },
  {
   "cell_type": "markdown",
   "id": "bd657575",
   "metadata": {},
   "source": [
    "---\n",
    "---\n",
    "## Exercise 3\n",
    "\n",
    "Read in a data file and display and evaluate the values using [pandas](https://pandas.pydata.org/)."
   ]
  },
  {
   "cell_type": "markdown",
   "id": "071376db-e357-416d-aa08-970499c9da97",
   "metadata": {},
   "source": [
    "---\n",
    "a) Read in the data file [`data.txt`](data.txt) and output the labels of the columns.\n",
    "\n",
    "### Solution:"
   ]
  },
  {
   "cell_type": "code",
   "execution_count": null,
   "id": "7610ef6c-70c8-44fd-b274-0aae5ff68e81",
   "metadata": {},
   "outputs": [],
   "source": []
  },
  {
   "cell_type": "markdown",
   "id": "a85f3230-d96a-4235-90fa-4574f46bafb6",
   "metadata": {},
   "source": [
    "- `n` denotes the index of the respective value\n",
    "- `x` are the x-values\n",
    "- `y0,y1,y2` are three different measurement series\n",
    "\n",
    "\n",
    "---\n",
    "b) Determine the mean value, the standard deviation, the median, the upper and lower quartile and the quartile difference for each of the three measurement series.\n",
    "\n",
    "### Solution:"
   ]
  },
  {
   "cell_type": "code",
   "execution_count": null,
   "id": "0f34dae7-b061-46de-a8ed-99f28e48fc87",
   "metadata": {},
   "outputs": [],
   "source": []
  },
  {
   "cell_type": "markdown",
   "id": "e7169efe-18a0-4388-bf89-da54b8987f08",
   "metadata": {},
   "source": [
    "---\n",
    "c) Now create a graph with the corresponding histogram for each of the measurement series `y0, y1, y2`.\n",
    "\n",
    "### Solution:"
   ]
  },
  {
   "cell_type": "code",
   "execution_count": null,
   "id": "e7a95ff8-29a3-4648-b442-62467254fe4b",
   "metadata": {},
   "outputs": [],
   "source": []
  },
  {
   "cell_type": "markdown",
   "id": "45ce3411-9282-453a-96d9-567225e7b21f",
   "metadata": {},
   "source": [
    "---\n",
    "d) Now create a graph with the corresponding cumulative histogram for each of the measurement series `y0, y1, y2`.\n",
    "\n",
    "### Solution:"
   ]
  },
  {
   "cell_type": "code",
   "execution_count": null,
   "id": "7c806869-f894-45b0-b532-321ab8b8f841",
   "metadata": {},
   "outputs": [],
   "source": []
  },
  {
   "cell_type": "markdown",
   "id": "6317aa9d-d82d-4f4b-9ab1-144918792ea5",
   "metadata": {},
   "source": [
    "---\n",
    "e) Now create a boxplot with all three measurement series `y0, y1, y2`.\n",
    "\n",
    "### Solution:"
   ]
  },
  {
   "cell_type": "code",
   "execution_count": null,
   "id": "f3703508-0f73-4412-b634-a85d683ea634",
   "metadata": {},
   "outputs": [],
   "source": []
  },
  {
   "cell_type": "markdown",
   "id": "c1e893a5-3027-44f7-8e50-5e72cbb656b6",
   "metadata": {},
   "source": [
    "---\n",
    "f) Create a scatter plot for all three measurement series `y0, y1, y2` - `y` over `x`.\n",
    "\n",
    "### Solution:"
   ]
  },
  {
   "cell_type": "code",
   "execution_count": null,
   "id": "be0890f6-6603-4a7a-b7ae-c0b2a0a45013",
   "metadata": {},
   "outputs": [],
   "source": []
  },
  {
   "cell_type": "markdown",
   "id": "a52d7db4-dc76-4b53-9e3a-dcd33ac36c16",
   "metadata": {},
   "source": [
    "---\n",
    "g) Now determine the correlation coefficient between `x` and all three measurement series `y0, y1, y2`.\n",
    "\n",
    "### Solution:"
   ]
  },
  {
   "cell_type": "code",
   "execution_count": null,
   "id": "1b62cf91-bb5f-40ca-a49e-1dec18a2e42e",
   "metadata": {},
   "outputs": [],
   "source": []
  },
  {
   "cell_type": "markdown",
   "id": "9c94ec52-0d1a-4dec-bc04-5c1d0a4b717b",
   "metadata": {},
   "source": [
    "---\n",
    "h) Why is the correlation coefficient for the measurement series `y2` practically zero, although `x` and `y2` are obviously strongly correlated?\n",
    "\n",
    "### Solution"
   ]
  },
  {
   "cell_type": "markdown",
   "id": "9c51d094-5136-4542-be6b-38000be5e61d",
   "metadata": {},
   "source": []
  },
  {
   "cell_type": "code",
   "execution_count": null,
   "id": "e96ba9be-f32d-4c2b-b1f0-3e9f7d3584ca",
   "metadata": {},
   "outputs": [],
   "source": []
  }
 ],
 "metadata": {
  "kernelspec": {
   "display_name": "Python 3 (ipykernel)",
   "language": "python",
   "name": "python3"
  },
  "language_info": {
   "codemirror_mode": {
    "name": "ipython",
    "version": 3
   },
   "file_extension": ".py",
   "mimetype": "text/x-python",
   "name": "python",
   "nbconvert_exporter": "python",
   "pygments_lexer": "ipython3",
   "version": "3.8.18"
  }
 },
 "nbformat": 4,
 "nbformat_minor": 5
}
