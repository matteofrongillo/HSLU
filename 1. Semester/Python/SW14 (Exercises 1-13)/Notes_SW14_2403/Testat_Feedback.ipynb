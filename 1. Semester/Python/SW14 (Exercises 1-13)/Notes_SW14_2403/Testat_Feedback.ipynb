{
 "cells": [
  {
   "cell_type": "code",
   "execution_count": 73,
   "id": "edf947df-25bb-4607-92bb-9363d3db12f9",
   "metadata": {},
   "outputs": [
    {
     "name": "stdout",
     "output_type": "stream",
     "text": [
      "[1 3 2]\n"
     ]
    }
   ],
   "source": [
    "import numpy as np\n",
    "\n",
    "\n",
    "# DO NOT OVERWRITE python functionalities  --> will get points deducted!\n",
    "def function_name(list):\n",
    "    print(list)\n",
    "\n",
    "# Function \"works\" but it is still a warcrime to use list as a variable\n",
    "function_name(np.array([1,3,2]))"
   ]
  },
  {
   "cell_type": "code",
   "execution_count": 7,
   "id": "6384e15e-661a-44ee-ae7e-bb00483bebfd",
   "metadata": {},
   "outputs": [
    {
     "data": {
      "text/plain": [
       "[1, 2, 3, 4, 5]"
      ]
     },
     "execution_count": 7,
     "metadata": {},
     "output_type": "execute_result"
    }
   ],
   "source": [
    "# because list is a function from python\n",
    "list((1,2,3,4,5))"
   ]
  },
  {
   "cell_type": "code",
   "execution_count": null,
   "id": "0cb61430-1cd2-408b-b939-9334e815375c",
   "metadata": {},
   "outputs": [],
   "source": [
    "# Solution of the coding"
   ]
  },
  {
   "cell_type": "code",
   "execution_count": 70,
   "id": "28c71c55-0115-4b23-b07d-9680e5f055a5",
   "metadata": {},
   "outputs": [],
   "source": [
    "def stat_analysis(my_list):\n",
    "\n",
    "    \n",
    "    if len(my_list) == 0:\n",
    "        print(\"Waring - list has no values\")\n",
    "        return []\n",
    "        \n",
    "    mean = np.mean(my_list)\n",
    "    median = np.median(my_list)\n",
    "    lq = np.quantile(my_list, 0.25)\n",
    "\n",
    "    # rounding needs to be INSIDE the function\n",
    "    return_list = [round(mean,2),round(median,2),round(lq,2)]\n",
    "    #print(return_list)\n",
    "    # you need to return (and not print the answers)\n",
    "    return return_list\n"
   ]
  },
  {
   "cell_type": "code",
   "execution_count": null,
   "id": "7fe6f77d-dddd-4d64-af09-0745b27674ab",
   "metadata": {},
   "outputs": [],
   "source": [
    "# if you dont know the solution of the function, just write the Docstrings and Typehints\n",
    "\n",
    "def stat_analysis(my_list:list)->list:\n",
    "    \"\"\"\n",
    "    Do some statistical analysis on my list \n",
    "\n",
    "    Parameters:\n",
    "        my_list (list)  List of Values\n",
    "\n",
    "    Returns\n",
    "        values (list)  List values\n",
    "    \"\"\"\n",
    "    value = None\n",
    "    return value"
   ]
  }
 ],
 "metadata": {
  "kernelspec": {
   "display_name": "Python 3 (ipykernel)",
   "language": "python",
   "name": "python3"
  },
  "language_info": {
   "codemirror_mode": {
    "name": "ipython",
    "version": 3
   },
   "file_extension": ".py",
   "mimetype": "text/x-python",
   "name": "python",
   "nbconvert_exporter": "python",
   "pygments_lexer": "ipython3",
   "version": "3.11.9"
  }
 },
 "nbformat": 4,
 "nbformat_minor": 5
}
