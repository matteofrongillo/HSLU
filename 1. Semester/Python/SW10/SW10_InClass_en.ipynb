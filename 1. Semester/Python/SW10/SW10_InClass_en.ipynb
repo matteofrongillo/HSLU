{
 "cells": [
  {
   "cell_type": "markdown",
   "id": "9c07d0a8-ae33-4895-99c5-20e68a49216c",
   "metadata": {},
   "source": [
    "# SW10 InClass - Repetition and programming\n",
    "\n",
    "This file is intended for interactive repetition in the first lesson in class. You write directly into the empty cells."
   ]
  },
  {
   "cell_type": "markdown",
   "id": "bd657575",
   "metadata": {},
   "source": [
    "## Exercise 1\n",
    "Where is the error in the following statements? Give reasons.\n",
    "\n",
    "a) The probability of a “six” in the numbers lottery is $-3\\cdot 10^{-6}$.\n",
    "\n",
    "### Solution:"
   ]
  },
  {
   "cell_type": "markdown",
   "id": "c875f42f",
   "metadata": {},
   "source": []
  },
  {
   "cell_type": "markdown",
   "id": "f7941960",
   "metadata": {},
   "source": [
    "b) For a tossed coin, it was determined that $P(\\text{heads}) = 0.32$ and $P(\\text{tails}) = 0.73$.\n",
    "\n",
    "### Solution:"
   ]
  },
  {
   "cell_type": "markdown",
   "id": "e16c3ce3",
   "metadata": {},
   "source": []
  },
  {
   "cell_type": "markdown",
   "id": "d36c4d29",
   "metadata": {},
   "source": [
    "c) During an interview, the events\n",
    "* $S$: interviewee is pregnant.\n",
    "* $M$: interviewee is (biologically) male.\n",
    "\n",
    "were examined. Here\n",
    "$$\n",
    "P(S) = 0.2 \\qquad P(M) = 0.5 \\quad \\text{and}\\quad P(S \\cup M) = 0.6\n",
    "$$\n",
    "\n",
    "### Solution:"
   ]
  },
  {
   "cell_type": "markdown",
   "id": "76470763",
   "metadata": {},
   "source": []
  },
  {
   "cell_type": "markdown",
   "id": "b004b4aa",
   "metadata": {},
   "source": [
    "## Exercise 2\n",
    "a) Given are events $A,B,C,D$ in the event space $\\Omega$. For each of the following expressions, indicate whether it is a number or a set.\n",
    "1. $A\\cup B$\n",
    "2. $P(A\\cap B)$\n",
    "3. $\\overline{B}\\cap C$\n",
    "4. $P((A\\cap B\\cap C)\\cup(\\overline{A}\\cap \\overline{B}\\cap \\overline{C}))$\n",
    "5. $P(\\Omega)$\n",
    "6. $\\emptyset$\n",
    "\n",
    "### Solution:"
   ]
  },
  {
   "cell_type": "markdown",
   "id": "defdec7a",
   "metadata": {},
   "source": []
  },
  {
   "cell_type": "markdown",
   "id": "f85467f7",
   "metadata": {},
   "source": [
    "b) Which of the following expressions make sense? Explain.\n",
    "1. $P(A\\cup (B\\cap C))$\n",
    "2. $P(A+B)$\n",
    "3. $P(A)+ P(B)$\n",
    "4. $P(\\overline{A})\\cap P(B)$\n",
    "5. $P(1-A)$\n",
    "6. $\\overline{P(B)}$\n",
    "\n",
    "### Solution:"
   ]
  },
  {
   "cell_type": "markdown",
   "id": "74cfe6ce",
   "metadata": {},
   "source": []
  },
  {
   "cell_type": "markdown",
   "id": "0e68db60",
   "metadata": {},
   "source": [
    "c) The events $A$ and $B$ are disjoint, and $P(B) > 0$ and $P(A) > 0$ apply. Which of the following statements are correct? Give reasons.\n",
    "1. $P(A\\cap B) < P(A)$\n",
    "2. $P(A\\cup B)>P(A)$\n",
    "3. $P(C\\cup D)\\le P(C)+P(D)$\n",
    "4. $P(\\overline{A}\\cap \\overline{B})+P(B)=1-P(A)$\n",
    "\n",
    "### Solution:"
   ]
  },
  {
   "cell_type": "markdown",
   "id": "d7804cf6",
   "metadata": {},
   "source": []
  },
  {
   "attachments": {
    "img/venn_diagram.png": {
     "image/png": "[encoded data removed]"
    }
   },
   "cell_type": "markdown",
   "id": "a8b6374e",
   "metadata": {},
   "source": [
    "d) <br>\n",
    "![venn_diagram.png](attachment:img/venn_diagram.png)\n",
    "<br>\n",
    "Mark the following events in the Venn diagram above.\n",
    "1. $C\\cap D$\n",
    "2. $(D\\backslash C)\\cup(C\\cap B)$\n",
    "3. $B\\cup D$\n",
    "\n",
    "### Solution:"
   ]
  },
  {
   "cell_type": "markdown",
   "id": "deb0f15c",
   "metadata": {},
   "source": []
  },
  {
   "cell_type": "markdown",
   "id": "348a0da3",
   "metadata": {},
   "source": [
    "e) We refer again to the Venn diagram above. Which of the following statements are correct?\n",
    "1. $A\\cup B=\\Omega$\n",
    "2. $D\\subseteq A$\n",
    "3. $B\\cap C=\\emptyset$\n",
    "4. $(C\\setminus B)\\cap D \\subseteq A$\n",
    "\n",
    "### Solution:"
   ]
  },
  {
   "cell_type": "markdown",
   "id": "c3d44fe7",
   "metadata": {},
   "source": []
  },
  {
   "cell_type": "markdown",
   "id": "db39f472",
   "metadata": {},
   "source": [
    "## Exercise 3\n",
    "In a random experiment, two dice are thrown at the same time. We assume that they are fair, i.e. the numbers $1$ to $6$ on each die occur with equal probability.\n",
    "\n",
    "a) Describe the event space in terms of elementary events.\n",
    "\n",
    "### Solution:"
   ]
  },
  {
   "cell_type": "markdown",
   "id": "ee55eb67",
   "metadata": {},
   "source": []
  },
  {
   "cell_type": "markdown",
   "id": "a1f5d6e3",
   "metadata": {},
   "source": [
    "b) What is the probability of a single elementary event?"
   ]
  },
  {
   "cell_type": "markdown",
   "id": "72efdaaf",
   "metadata": {},
   "source": []
  },
  {
   "cell_type": "markdown",
   "id": "ad16e2c4",
   "metadata": {},
   "source": [
    "c) Calculate the probability that the event $E_1=\\{\\text{The sum of the eyes is }6\\}$ occurs.\n",
    "\n",
    "### Solution:"
   ]
  },
  {
   "cell_type": "markdown",
   "id": "fa108cd1",
   "metadata": {},
   "source": []
  },
  {
   "cell_type": "markdown",
   "id": "a578465b",
   "metadata": {},
   "source": [
    "d) What is the probability that the event $E_2=\\{\\text{The sum of the eyes is less than }4\\}$ occurs?\n",
    "\n",
    "### Solution:"
   ]
  },
  {
   "cell_type": "markdown",
   "id": "fb709c3a",
   "metadata": {},
   "source": []
  },
  {
   "cell_type": "markdown",
   "id": "6ac7a96b",
   "metadata": {},
   "source": [
    "e) Determine $P(E_3)$ for the event $E_3=\\{\\text{Both numbers are odd}\\}$.\n",
    "\n",
    "### Solution:"
   ]
  },
  {
   "cell_type": "markdown",
   "id": "6f04aa3e",
   "metadata": {},
   "source": []
  },
  {
   "cell_type": "markdown",
   "id": "08241679",
   "metadata": {},
   "source": [
    "f) Calculate $P(E_2 \\cup E_3)$.\n",
    "\n",
    "### Solution:"
   ]
  },
  {
   "cell_type": "markdown",
   "id": "8b87e1b5",
   "metadata": {},
   "source": []
  },
  {
   "cell_type": "markdown",
   "id": "a7ad2742-c16a-40b8-9c0f-209181996476",
   "metadata": {
    "tags": []
   },
   "source": [
    "## Exercise 4\n",
    "From an urn with $37$ consecutively numbered balls $12$ are drawn. Calculate the number of draws if the draw is carried out as follows:\n",
    "\n",
    "a) with putting the balls back and taking order into account\n",
    "\n",
    "b) without putting the balls back and taking order into account\n",
    "\n",
    "c) without putting the balls back and not taking order into account\n",
    "\n",
    "d)  with putting the balls back and not taking order into account\n",
    "\n",
    "### Solution:"
   ]
  },
  {
   "cell_type": "code",
   "execution_count": null,
   "id": "75dcb0ae-c205-4786-84f8-4f803a9d5583",
   "metadata": {},
   "outputs": [],
   "source": []
  },
  {
   "cell_type": "markdown",
   "id": "0a4cb2e4-b218-4fb8-904f-54b633511a0e",
   "metadata": {},
   "source": [
    "## Exercise 5\n",
    "a) An exam consists of $10$ single-choice questions with $5$ alternatives each, of which only one may be marked. How many different options are there for completing the test if all tasks are answered?\n",
    "\n",
    "b) How many possibilities are there if some tasks are not answered?\n",
    "\n",
    "c) How many options are there if there are multiple-choice questions in which several alternatives may be marked? Not all questions have to be answered.\n",
    "\n",
    "d) How many possibilities are there for multiple-choice questions if all questions are answered?\n",
    "\n",
    "### Solution:"
   ]
  },
  {
   "cell_type": "markdown",
   "id": "79001032-deb1-4a42-bbc6-0c91600ea3a1",
   "metadata": {},
   "source": []
  },
  {
   "cell_type": "markdown",
   "id": "647a162b-b2ec-41f6-a5d9-924cea2caaae",
   "metadata": {},
   "source": [
    "## Exercise 6\n",
    "\n",
    "You want to take a $3$ week vacation in a different country each week. You are told by your travel agent that you can choose from $25$ countries. How many possibilities are there to book your vacation?\n",
    "\n",
    "### Solution:"
   ]
  },
  {
   "cell_type": "markdown",
   "id": "df5b81fb-9a61-4ccf-ab40-2651f5e6b04b",
   "metadata": {},
   "source": []
  },
  {
   "cell_type": "markdown",
   "id": "3b250b4d-6de8-4868-b1e8-7af45d5842a9",
   "metadata": {},
   "source": [
    "## Exercise 7\n",
    "\n",
    "The betting formats for horse races from the USA and the Magna Racino in Austria are as follows:\n",
    "\n",
    "    WIN: winner of the race\n",
    "    PLACE: the horse must finish first or second\n",
    "    SHOW: the horse must finish first, second or third\n",
    "\n",
    "In a race $7$ horses start and a player has bet on a horse. How many possible outcomes are there for WIN, PLACE and SHOW?\n",
    "\n",
    "### Solution:"
   ]
  },
  {
   "cell_type": "markdown",
   "id": "d7c1782b-7973-4777-8a95-83c1156c0b96",
   "metadata": {},
   "source": []
  },
  {
   "cell_type": "markdown",
   "id": "3d97d715-b1ec-45f5-8fc5-0c690db65200",
   "metadata": {},
   "source": [
    "## Exercise 8\n",
    "There are $34$ guests at a party. When the beer runs out, $3$ people are chosen to fetch a new keg. How many different ways are there to send the $3$ people to fetch beer?\n",
    "\n",
    "### Solution:"
   ]
  },
  {
   "cell_type": "markdown",
   "id": "6d340d05-ce22-43ef-b782-6dc23093b052",
   "metadata": {},
   "source": []
  }
 ],
 "metadata": {
  "kernelspec": {
   "display_name": "Python 3 (ipykernel)",
   "language": "python",
   "name": "python3"
  },
  "language_info": {
   "codemirror_mode": {
    "name": "ipython",
    "version": 3
   },
   "file_extension": ".py",
   "mimetype": "text/x-python",
   "name": "python",
   "nbconvert_exporter": "python",
   "pygments_lexer": "ipython3",
   "version": "3.8.18"
  }
 },
 "nbformat": 4,
 "nbformat_minor": 5
}
