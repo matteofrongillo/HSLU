{
 "cells": [
  {
   "cell_type": "markdown",
   "metadata": {},
   "source": [
    "# First question\n",
    "##  Nitrogen impact\n",
    "The denitrfing bacteria in waterlogged soil turn nitrates which are nessassary for the production of proteins in plants, is converted to nitrogen and nitrogen oxide, with nitrogen oxide being a heavy contributor to the greenhouse effect.The loss of nitrates in the ecosystem means that the soil becomes more infertile and then as a result the ecosystem is damaged.\n",
    "\n",
    "## Carbon impact\n",
    "Overfertlisation can lead to an increased rate of methane which then further contributes to the carbon cycle and its interaction with greenhouse gases\n",
    "\n",
    "# Second question\n",
    "Nitrfiying bacteria is an oxidation process in which hydrogen is transfered into oxygen in a balanced which increases the amount of energy and prodcution with it creating nitrates which is fundamentally "
   ]
  }
 ],
 "metadata": {
  "kernelspec": {
   "display_name": "base",
   "language": "python",
   "name": "python3"
  },
  "language_info": {
   "name": "python",
   "version": "3.12.4"
  }
 },
 "nbformat": 4,
 "nbformat_minor": 2
}
