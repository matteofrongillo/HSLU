{
 "cells": [
  {
   "cell_type": "markdown",
   "metadata": {},
   "source": [
    "# Work assignment SW11 - PYTHON BASICS\n",
    "\n",
    "These are the self-study tasks of the semester week, which you will solve within one week in your JupyterHub environment. After completing your work, download a copy of the Jupyter notebook file locally to your laptop (Menu: File->Download).\n",
    "\n",
    "On ILIAS you will find the weekly scheduled assignment where you will upload your solved Jupyter notebook file. After your submission, you will receive a corresponding sample solution to the assignment. Your submission will not be corrected. Although the assignments are marked “mandatory”, they do not count towards your semester grades. Only the grades of the tests during the semester are relevant for this. \n",
    "\n",
    "We wish you every success!\n"
   ]
  },
  {
   "cell_type": "markdown",
   "metadata": {},
   "source": [
    "---\n",
    "---\n",
    "## Exercise 1\n",
    "\n",
    "At a (hypothetical) Swiss university, 80% of the students are from the canton ($K$) and 20% from outside the canton ($\\overline{K}$). The distribution of cantonal students across the degree programs is as follows: \n",
    "\n",
    "- Electrical engineering ($E$): $30\\%$\n",
    "- Mechanical engineering ($M$): $30\\%$\n",
    "- Computer science ($I$): $40\\%$\n",
    "\n",
    "For those outside the canton, this is: \n",
    "\n",
    "- Electrical engineering ($E$): $5\\%$\n",
    "- Mechanical engineering ($M$): $15\\%$\n",
    "- Computer science ($I$): $80\\%$\n",
    "\n",
    "a) Create a probability tree, starting at the root with the decision $K \\leftrightarrow \\overline{K}$ - cantonal to extra-cantonal - and enter the corresponding probabilities (symbolic and numerical) on all branches and leaves.\n",
    "\n",
    "### Solution\n"
   ]
  },
  {
   "cell_type": "markdown",
   "metadata": {},
   "source": [
    "<img src=img/auftrag_tree.png alt=Drawing width=550 />"
   ]
  },
  {
   "cell_type": "markdown",
   "metadata": {},
   "source": [
    "---\n",
    "\n",
    "b) Now use the [numpy](https://numpy.org) random generator [numpy.random.Generator](https://numpy.org/doc/stable/reference/random/generated/numpy.random.Generator.choice.html#numpy.random.Generator.choice) to simulate the above probabilities. Proceed as in [Theorieteil](SW11_Theorie_en.ipynb) or as in [Class](SW11_InClass_Vorlage_en.ipynb). \n",
    "\n",
    "### Solution \n"
   ]
  },
  {
   "cell_type": "code",
   "execution_count": 62,
   "metadata": {},
   "outputs": [
    {
     "name": "stdout",
     "output_type": "stream",
     "text": [
      "Number of local:  477 in percent:  47.7 %\n",
      "Number of non-local:  523 in percent:  52.3 %\n"
     ]
    }
   ],
   "source": [
    "import numpy as np\n",
    "\n",
    "PK = 0.8\n",
    "PNK = 1 - PK\n",
    "\n",
    "sampleSize = 1000\n",
    "\n",
    "rng = np.random.default_rng()\n",
    "randArr = np.random.choice([0,1], sampleSize, [PK,PNK])\n",
    "\n",
    "nK = np.sum(randArr == 0)\n",
    "nNK = np.sum(randArr == 1)\n",
    "\n",
    "print('Number of local: ', nK, 'in percent: ', 100*nK/sampleSize, '%')\n",
    "print('Number of non-local: ', nNK, 'in percent: ', 100*nNK/sampleSize, '%')"
   ]
  },
  {
   "cell_type": "markdown",
   "metadata": {},
   "source": [
    "---\n",
    "\n",
    "c) Determine all probabilities in the tree below.\n",
    "\n",
    "<img src=img/Wahrscheinlichkeitsbaum_invertiert_full2_Auftrag.png alt=Drawing width=550 />\n",
    "\n",
    "### Solution"
   ]
  },
  {
   "cell_type": "markdown",
   "metadata": {},
   "source": []
  },
  {
   "cell_type": "markdown",
   "metadata": {},
   "source": [
    "\n",
    "---\n",
    "\n",
    "d) Now determine the simulated values for the probabilities on the branches of the tree (leaves already known) from c) and compare again with the theory.\n",
    "\n",
    "### Solution"
   ]
  },
  {
   "cell_type": "code",
   "execution_count": null,
   "metadata": {},
   "outputs": [],
   "source": []
  },
  {
   "cell_type": "markdown",
   "metadata": {},
   "source": [
    "---\n",
    "\n",
    "e) Using a counterexample, prove that the choice of degree program and cantonal affiliation are not independent of each other.\n",
    "\n",
    "### Solution"
   ]
  },
  {
   "cell_type": "markdown",
   "metadata": {},
   "source": []
  },
  {
   "cell_type": "code",
   "execution_count": null,
   "metadata": {},
   "outputs": [],
   "source": []
  }
 ],
 "metadata": {
  "kernelspec": {
   "display_name": "Python 3 (ipykernel)",
   "language": "python",
   "name": "python3"
  },
  "language_info": {
   "codemirror_mode": {
    "name": "ipython",
    "version": 3
   },
   "file_extension": ".py",
   "mimetype": "text/x-python",
   "name": "python",
   "nbconvert_exporter": "python",
   "pygments_lexer": "ipython3",
   "version": "3.11.9"
  }
 },
 "nbformat": 4,
 "nbformat_minor": 4
}
