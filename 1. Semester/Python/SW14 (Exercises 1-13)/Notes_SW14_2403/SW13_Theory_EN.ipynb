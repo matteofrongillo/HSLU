{
 "cells": [
  {
   "cell_type": "code",
   "execution_count": 12,
   "id": "ffb2722e-fa7c-49d6-8b9e-a4c407f0f037",
   "metadata": {},
   "outputs": [
    {
     "data": {
      "text/plain": [
       "np.float64(0.8413447460685429)"
      ]
     },
     "execution_count": 12,
     "metadata": {},
     "output_type": "execute_result"
    }
   ],
   "source": [
    "from scipy.stats import norm\n",
    "\n",
    "# calculating the commulative probability (% of data under this point)\n",
    "propb_x = norm.cdf(x=115, loc=100, scale=15)\n",
    "propb_x"
   ]
  },
  {
   "cell_type": "code",
   "execution_count": 14,
   "id": "5b364ed4-fc38-4cf7-824a-67877b40e7c4",
   "metadata": {},
   "outputs": [
    {
     "name": "stdout",
     "output_type": "stream",
     "text": [
      "100.4885116428479\n",
      "14.707705640590332\n"
     ]
    }
   ],
   "source": [
    "import numpy as np\n",
    "\n",
    "# defining 1000 normal distributed values\n",
    "experiment = np.random.normal(loc = 100, scale = 15, size = 1000)\n",
    "\n",
    "# measure them\n",
    "print(experiment.mean())\n",
    "print(experiment.std())"
   ]
  },
  {
   "cell_type": "code",
   "execution_count": 2,
   "id": "7ee22fe5-c2ef-4639-a800-a446423e2229",
   "metadata": {},
   "outputs": [
    {
     "data": {
      "text/plain": [
       "np.float64(0.5)"
      ]
     },
     "execution_count": 2,
     "metadata": {},
     "output_type": "execute_result"
    }
   ],
   "source": [
    "experiment"
   ]
  },
  {
   "cell_type": "code",
   "execution_count": 17,
   "id": "39053ef8-0922-4314-979b-22e776957e43",
   "metadata": {},
   "outputs": [
    {
     "name": "stdout",
     "output_type": "stream",
     "text": [
      "0.503204728727795\n",
      "102.33670174279244\n"
     ]
    }
   ],
   "source": [
    "# given is the experiment data\n",
    "experiment\n",
    "\n",
    "# calculate mean and std from my experiment\n",
    "\n",
    "mean = experiment.mean()\n",
    "std = experiment.std()\n",
    "\n",
    "# calculating probability\n",
    "point_a = 110\n",
    "point_b = 90\n",
    "prob_x = norm.cdf(point_a, loc = mean, scale = std) - norm.cdf(point_b, loc = mean, scale = std)\n",
    "print(prob_x)\n",
    "\n",
    "# calculating value X where 55% of values are below it\n",
    "print(norm.ppf(q=0.55, loc=mean, scale=std))"
   ]
  },
  {
   "cell_type": "code",
   "execution_count": 21,
   "id": "d31e9f71-ba9a-44c6-91b9-860b9c7ce575",
   "metadata": {},
   "outputs": [
    {
     "name": "stdout",
     "output_type": "stream",
     "text": [
      "upper conf intervall:115.19621728343823\n",
      "lower conf intervall:85.78080600225756\n"
     ]
    },
    {
     "data": {
      "text/plain": [
       "np.float64(0.6826894921370861)"
      ]
     },
     "execution_count": 21,
     "metadata": {},
     "output_type": "execute_result"
    }
   ],
   "source": [
    "# we want to calculate 1 sigma confidence intervall (where 68% of my data sits)\n",
    "mu = mean\n",
    "sigma = std\n",
    "\n",
    "print(f\"upper conf intervall:{mu + sigma}\")\n",
    "print(f\"lower conf intervall:{mu - sigma}\")\n",
    "\n",
    "# lets check if 68% of data is in between the upper and lower confidence intervall\n",
    "norm.cdf(mu + sigma, loc = mu, scale = std) - norm.cdf(mu - sigma, loc = mu, scale = std)\n"
   ]
  },
  {
   "cell_type": "code",
   "execution_count": 19,
   "id": "464e7401-15dc-40d7-b775-4abed1b91c8d",
   "metadata": {},
   "outputs": [
    {
     "data": {
      "text/plain": [
       "np.float64(14.707705640590332)"
      ]
     },
     "execution_count": 19,
     "metadata": {},
     "output_type": "execute_result"
    }
   ],
   "source": [
    "std"
   ]
  },
  {
   "cell_type": "code",
   "execution_count": 25,
   "id": "938a088b-a9f1-4086-8576-bce8ef337b7a",
   "metadata": {},
   "outputs": [
    {
     "data": {
      "text/plain": [
       "(array([ 10.,  41.,  88., 204., 237., 211., 133.,  52.,  17.,   7.]),\n",
       " array([-2.88118935, -2.26812677, -1.6550642 , -1.04200162, -0.42893905,\n",
       "         0.18412353,  0.7971861 ,  1.41024868,  2.02331126,  2.63637383,\n",
       "         3.24943641]),\n",
       " <BarContainer object of 10 artists>)"
      ]
     },
     "execution_count": 25,
     "metadata": {},
     "output_type": "execute_result"
    },
    {
     "data": {
      "image/png": "[encoded data removed]",
      "text/plain": [
       "<Figure size 640x480 with 1 Axes>"
      ]
     },
     "metadata": {},
     "output_type": "display_data"
    }
   ],
   "source": [
    "# we want to stadarize the experiment\n",
    "\n",
    "experiment_stand = (experiment - mu) / sigma\n",
    "\n",
    "import matplotlib.pyplot as plt\n",
    "\n",
    "plt.hist(experiment_stand)"
   ]
  }
 ],
 "metadata": {
  "kernelspec": {
   "display_name": "Python 3 (ipykernel)",
   "language": "python",
   "name": "python3"
  },
  "language_info": {
   "codemirror_mode": {
    "name": "ipython",
    "version": 3
   },
   "file_extension": ".py",
   "mimetype": "text/x-python",
   "name": "python",
   "nbconvert_exporter": "python",
   "pygments_lexer": "ipython3",
   "version": "3.11.9"
  }
 },
 "nbformat": 4,
 "nbformat_minor": 5
}
