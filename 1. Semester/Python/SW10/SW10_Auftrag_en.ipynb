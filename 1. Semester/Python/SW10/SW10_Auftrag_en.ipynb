{
 "cells": [
  {
   "cell_type": "markdown",
   "id": "4f43f640-f9bc-4919-8de8-811f4b2b7743",
   "metadata": {},
   "source": [
    "# Work assignment SW10 - PYTHON BASICS\n",
    "\n",
    "These are the self-study tasks of the semester week, which you will solve within one week in your JupyterHub environment. After completing your work, download a copy of the Jupyter notebook file locally to your laptop (Menu: File->Download).\n",
    "\n",
    "On ILIAS you will find the weekly scheduled assignment where you will upload your solved Jupyter notebook file. After your submission, you will receive a corresponding sample solution to the assignment. Your submission will not be corrected. Although the assignments are marked “mandatory”, they do not count towards your semester grades. Only the grades of the tests during the semester are relevant for this. \n",
    "\n",
    "We wish you every success!\n"
   ]
  },
  {
   "cell_type": "markdown",
   "id": "6c156f95",
   "metadata": {},
   "source": [
    "---\n",
    "---\n",
    "## Exercise 1\n",
    "a) Simulate $1000$ tosses of an *unfair* coin, i.e. one in which $0$ and $1$ do not fall equally often. Specifically\n",
    "\n",
    "$$\n",
    "P(0)=0.3 \\qquad \\text{and} \\qquad P(1)=0.7\n",
    "$$\n",
    "\n",
    "shall apply. As parameter `p` of the method `numpy.choice()` you can give an array with the probabilities.\n",
    "\n",
    "### Solution:"
   ]
  },
  {
   "cell_type": "code",
   "execution_count": 121,
   "id": "c9c5bb62",
   "metadata": {},
   "outputs": [
    {
     "name": "stdout",
     "output_type": "stream",
     "text": [
      "1: [0.268 0.732]\n",
      "2: [0.299 0.701]\n",
      "3: [0.325 0.675]\n",
      "4: [0.274 0.726]\n",
      "5: [0.318 0.682]\n",
      "6: [0.306 0.694]\n",
      "7: [0.313 0.687]\n",
      "8: [0.29 0.71]\n",
      "9: [0.292 0.708]\n",
      "[1 1 1 1 1 0 1 1 1 1 1 1 0 1 1 0 1 1 1 1 1 1 1 1 1 1 0 1 1 1 1 1 1 0 1 1 1\n",
      " 0 1 1 1 0 0 1 0 1 1 1 0 1 1 1 1 1 1 0 1 1 1 1 0 0 1 1 1 1 0 0 1 1 1 0 1 1\n",
      " 1 1 1 1 1 1 0 0 0 0 1 1 1 0 1 1 0 0 1 1 1 1 1 1 1 1 1 1 1 1 1 1 0 1 1 1 1\n",
      " 1 1 1 1 0 1 0 1 1 0 1 1 1 1 1 0 0 1 1 1 1 1 1 0 1 1 1 0 1 0 0 0 0 1 1 0 1\n",
      " 0 1 1 0 1 1 1 1 0 1 1 1 0 0 1 0 1 1 1 1 0 0 1 1 1 1 1 1 1 0 1 1 1 1 1 1 0\n",
      " 1 1 1 0 1 1 0 1 1 1 0 0 1 1 1 1 1 1 1 0 1 1 1 0 1 0 1 1 1 1 1 1 1 1 1 0 1\n",
      " 1 0 1 1 0 1 0 0 0 1 1 0 1 1 1 1 1 1 1 0 0 1 1 1 0 1 0 1 0 1 1 1 1 0 1 0 0\n",
      " 1 1 1 0 1 1 1 1 1 1 1 1 0 1 0 1 0 0 1 0 0 1 0 1 1 0 1 1 1 1 1 0 0 1 1 1 1\n",
      " 1 1 0 1 1 1 1 0 1 0 1 1 1 1 1 1 0 1 0 1 1 1 0 0 1 1 0 1 1 1 1 0 0 1 1 1 0\n",
      " 1 1 1 1 1 1 0 1 1 1 1 1 0 1 1 0 0 1 1 1 0 0 0 1 0 1 1 1 1 0 1 0 0 1 0 1 0\n",
      " 1 1 0 1 1 0 0 1 1 1 1 1 1 1 1 1 1 1 0 0 0 1 0 1 1 1 1 0 0 1 1 0 1 0 1 0 1\n",
      " 1 1 1 1 1 1 0 1 1 1 1 1 0 1 1 1 0 1 0 0 0 0 1 1 0 1 1 1 1 1 0 1 1 0 0 1 1\n",
      " 1 1 0 0 1 0 1 1 1 0 1 1 1 1 0 1 0 1 1 1 0 0 1 1 0 0 1 1 1 1 0 1 1 1 1 1 1\n",
      " 1 1 1 0 1 1 0 0 0 1 1 1 0 0 0 1 1 0 1 1 1 0 0 1 0 0 1 1 0 0 0 1 0 1 1 1 1\n",
      " 1 1 0 0 0 1 1 0 0 1 1 1 1 1 1 1 1 1 1 1 1 0 1 1 0 1 1 1 1 1 1 1 1 1 0 0 1\n",
      " 1 1 1 0 1 1 1 1 1 1 1 1 1 0 1 0 1 1 1 0 0 0 1 1 1 1 1 1 1 1 1 1 1 1 1 0 1\n",
      " 0 1 1 1 0 0 1 1 1 1 1 1 1 1 1 0 1 1 0 1 1 0 0 1 1 1 1 0 1 1 0 0 1 1 0 0 1\n",
      " 0 0 1 1 0 0 0 0 1 1 1 1 0 1 1 1 1 0 1 1 1 1 0 1 1 0 0 1 1 1 1 1 0 1 0 0 1\n",
      " 1 1 1 0 0 1 0 0 0 1 0 1 1 0 1 0 1 0 1 1 0 1 1 1 1 1 0 1 1 0 0 1 1 1 1 0 1\n",
      " 0 1 0 0 1 1 1 0 1 1 0 1 1 0 1 0 1 0 0 1 1 1 1 1 1 1 0 0 0 1 0 1 1 0 0 0 1\n",
      " 0 0 1 1 0 0 1 1 1 0 1 1 1 0 0 0 0 0 1 1 0 1 1 1 1 1 1 1 1 1 0 1 1 1 1 1 1\n",
      " 1 1 0 1 1 0 1 0 1 1 1 1 1 1 1 1 1 1 1 1 1 1 1 0 1 1 0 1 1 1 0 1 1 1 1 0 1\n",
      " 1 1 0 0 1 0 1 0 1 1 1 1 1 0 1 1 1 1 1 0 0 1 1 1 1 1 1 0 1 1 1 0 0 1 1 1 1\n",
      " 0 1 1 1 1 1 1 1 1 1 1 1 1 1 1 1 1 1 1 0 1 1 1 1 0 0 1 0 1 1 1 1 0 1 0 1 0\n",
      " 0 0 1 1 1 1 0 1 1 1 1 1 1 1 1 0 0 1 0 1 1 1 1 0 1 1 0 1 0 1 0 1 1 1 0 1 0\n",
      " 1 1 1 0 1 1 1 0 1 0 0 1 1 1 1 1 1 1 1 1 0 1 0 1 1 1 0 1 1 1 1 0 1 1 1 1 0\n",
      " 1 0 1 0 1 1 1 1 1 0 1 1 0 1 1 1 0 1 1 0 1 1 0 1 1 1 0 1 1 1 1 1 1 1 1 1 1\n",
      " 0]\n"
     ]
    }
   ],
   "source": [
    "import numpy as np\n",
    "\n",
    "n_tosses = 1000\n",
    "coin_probabilities = [0.3,0.7]\n",
    "\n",
    "for elem in range(9):\n",
    "    coin_toss = np.random.choice([0,1], size=n_tosses, p=coin_probabilities)\n",
    "\n",
    "    rel_frequ_coin = np.bincount(coin_toss) / len(coin_toss)\n",
    "\n",
    "    print(f\"{elem+1}: {rel_frequ_coin}\")\n",
    "\n",
    "print(coin_toss)"
   ]
  },
  {
   "cell_type": "markdown",
   "id": "61039ff5",
   "metadata": {},
   "source": [
    "b) Plot a bar chart with the relative frequencies. Does the result meet your expectations?\n",
    "\n",
    "### Solution:"
   ]
  },
  {
   "cell_type": "code",
   "execution_count": 132,
   "id": "92f7cc16",
   "metadata": {},
   "outputs": [
    {
     "data": {
      "image/png": "[encoded data removed]",
      "text/plain": [
       "<Figure size 640x480 with 1 Axes>"
      ]
     },
     "metadata": {},
     "output_type": "display_data"
    }
   ],
   "source": [
    "import matplotlib.pyplot as plt\n",
    "\n",
    "fig, ax = plt.subplots()\n",
    "ax.bar(['0','1'],rel_frequ_coin)\n",
    "plt.title('Real coin toss')\n",
    "plt.show()"
   ]
  },
  {
   "cell_type": "markdown",
   "id": "d3f0d56f",
   "metadata": {},
   "source": [
    "c) Take the consecutive differences of the sequence and plot a bar chart of their relative frequencies again. Think qualitatively about why you get this result. We will learn the exact calculation later.\n",
    "\n",
    "### Solution:"
   ]
  },
  {
   "cell_type": "code",
   "execution_count": 140,
   "id": "24719081",
   "metadata": {},
   "outputs": [
    {
     "data": {
      "image/png": "[encoded data removed]",
      "text/plain": [
       "<Figure size 640x480 with 1 Axes>"
      ]
     },
     "metadata": {},
     "output_type": "display_data"
    }
   ],
   "source": [
    "diff_coin_toss = np.diff(coin_toss)\n",
    "rel_frequ_diff_coin = np.bincount(diff_coin_toss+1)/len(diff_coin_toss)\n",
    "\n",
    "fig, ax = plt.subplots()\n",
    "ax.bar(['-1','0','1'],rel_frequ_diff_coin)\n",
    "plt.title('Differences of the coin toss sequence')\n",
    "plt.show()"
   ]
  },
  {
   "cell_type": "markdown",
   "id": "bb3fdd62-b44d-4d49-91e4-845c30ca8fe5",
   "metadata": {},
   "source": [
    "## Exercise 2\n",
    "A die has been rolled in such a way that every odd number appears twice as likely as every even number. All even numbers are equally likely. The die is rolled once.\n",
    "\n",
    "a) Describe the event space in terms of elementary events.\n",
    "\n",
    "### Solution:"
   ]
  },
  {
   "cell_type": "markdown",
   "id": "7a455c8d-f4c9-45f2-a88e-f1d5b665c421",
   "metadata": {},
   "source": []
  },
  {
   "cell_type": "markdown",
   "id": "f1c2f726-87a4-46ac-b2b1-fcbc241cdbff",
   "metadata": {},
   "source": [
    "b) Calculate the probability for each elementary event.\n",
    "\n",
    "### Solution:"
   ]
  },
  {
   "cell_type": "markdown",
   "id": "afe4c3d8-9dc1-4b77-b488-67ed4504b2c4",
   "metadata": {},
   "source": []
  },
  {
   "cell_type": "markdown",
   "id": "895370e8-5d10-42b8-ac98-ef98d0267a27",
   "metadata": {},
   "source": [
    "c) Calculate the probability that a number smaller than $4$ is rolled.\n",
    "\n",
    "### Solution:"
   ]
  },
  {
   "cell_type": "markdown",
   "id": "e16c98e9-e84f-4e78-97c4-cdd7d7be7b0b",
   "metadata": {},
   "source": []
  },
  {
   "cell_type": "markdown",
   "id": "ca916135-4b38-4bfb-b108-bd42c2cea658",
   "metadata": {},
   "source": [
    "d) Simulate that this die is rolled a $1000$ times to check the plausibility of your results from parts b) and c).\n",
    "\n",
    "### Solution:"
   ]
  },
  {
   "cell_type": "code",
   "execution_count": null,
   "id": "df997923-bfd9-4e7d-9f83-2f106b8bb43e",
   "metadata": {},
   "outputs": [],
   "source": []
  },
  {
   "cell_type": "markdown",
   "id": "22f560d7-860f-4a9b-a4cd-491691fbd3f5",
   "metadata": {},
   "source": [
    "## Exercise 3\n",
    "\n",
    "a) There are $56$ people at a birthday party. What is the probability that at least one other person will have a birthday that day?\n",
    "\n",
    "b) How many people must be at the party to have at least a $50\\%$ chance of another person having a birthday that day?\n",
    "\n",
    "c) Suppose there are $56$ people in a room. What is the probability that at least two people have a birthday on the same day?\n",
    "\n",
    "### Solution:"
   ]
  },
  {
   "cell_type": "markdown",
   "id": "a9224fd2-fe08-4f17-80d7-79abc061f1dd",
   "metadata": {},
   "source": []
  },
  {
   "cell_type": "markdown",
   "id": "f9c5548e-6d5d-4a28-b107-751c2a221474",
   "metadata": {},
   "source": [
    "## Exercise 4\n",
    "Poker is played with the Anglo-American hand, which comprises $13$ cards of different values from the $4$ suits of diamonds, hearts, spades and clubs: $2$ to $10$, jack, queen, king and ace. Each player is dealt $5$ cards at random. We assume that each card has the same probability. Calculate the probability for the following hands:\n",
    "\n",
    "a) **Royal Flush**: $10$, Jack, Queen, King, Ace of the same suit\n",
    "\n",
    "b) **Four of a kind**: Four cards of the same value\n",
    "\n",
    "c) **Full House**: A three of a kind (three cards of the same value) and a pair (two cards of the same value).\n",
    "\n",
    "### Solution:"
   ]
  },
  {
   "cell_type": "markdown",
   "id": "51c41ba6-76af-47e5-a921-4c693851cf3a",
   "metadata": {},
   "source": []
  },
  {
   "cell_type": "code",
   "execution_count": null,
   "id": "e389fee0-14d9-4e07-8a72-ca261c3f3ac2",
   "metadata": {},
   "outputs": [],
   "source": []
  }
 ],
 "metadata": {
  "kernelspec": {
   "display_name": "Python 3 (ipykernel)",
   "language": "python",
   "name": "python3"
  },
  "language_info": {
   "codemirror_mode": {
    "name": "ipython",
    "version": 3
   },
   "file_extension": ".py",
   "mimetype": "text/x-python",
   "name": "python",
   "nbconvert_exporter": "python",
   "pygments_lexer": "ipython3",
   "version": "3.11.9"
  }
 },
 "nbformat": 4,
 "nbformat_minor": 5
}
