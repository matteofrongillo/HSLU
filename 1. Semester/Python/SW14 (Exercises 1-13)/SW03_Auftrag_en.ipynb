{
 "cells": [
  {
   "cell_type": "markdown",
   "metadata": {},
   "source": [
    "# Assignment work SW03 - PYTHON BASICS  \n",
    "\n",
    "These are the self-study tasks for the semester week, which you will solve within a week in your JupyterHub environment. After completing your work, download a copy of the Jupyter notebook file locally to your laptop (right-click on the file in the JupyterHub file browser -> Download).\n",
    "\n",
    "On ILIAS you will find the corresponding scheduled work assignments every week, where you will upload your solved Jupyter notebook file. After you have submitted your work, you will receive a corresponding sample solution for the work assignment. Your submission will not be corrected. Although the work assignments are marked \"mandatory\", there are no tests in the module. The grades from the tests during the semester count.\n",
    "\n",
    "We wish you much success!"
   ]
  },
  {
   "cell_type": "markdown",
   "metadata": {},
   "source": [
    "***  \n",
    "## Task 1: Is X odd or even?  \n",
    "\n",
    "Write a small program that outputs whether the variable **x** is even or odd. Test this."
   ]
  },
  {
   "cell_type": "code",
   "execution_count": 1,
   "metadata": {},
   "outputs": [
    {
     "ename": "ValueError",
     "evalue": "invalid literal for int() with base 10: ''",
     "output_type": "error",
     "traceback": [
      "\u001b[0;31m---------------------------------------------------------------------------\u001b[0m",
      "\u001b[0;31mValueError\u001b[0m                                Traceback (most recent call last)",
      "Cell \u001b[0;32mIn[1], line 1\u001b[0m\n\u001b[0;32m----> 1\u001b[0m x \u001b[38;5;241m=\u001b[39m \u001b[38;5;28mint\u001b[39m(\u001b[38;5;28minput\u001b[39m(\u001b[38;5;124m\"\u001b[39m\u001b[38;5;124mWrite any integer: \u001b[39m\u001b[38;5;124m\"\u001b[39m))\n\u001b[1;32m      3\u001b[0m \u001b[38;5;28;01mdef\u001b[39;00m \u001b[38;5;21meven_odd\u001b[39m(number:\u001b[38;5;28mint\u001b[39m):\n\u001b[1;32m      4\u001b[0m     \u001b[38;5;28;01mif\u001b[39;00m number \u001b[38;5;241m%\u001b[39m \u001b[38;5;241m2\u001b[39m \u001b[38;5;241m==\u001b[39m \u001b[38;5;241m0\u001b[39m:\n",
      "\u001b[0;31mValueError\u001b[0m: invalid literal for int() with base 10: ''"
     ]
    }
   ],
   "source": [
    "x = int(input(\"Write any integer: \"))\n",
    "\n",
    "def even_odd(number:int):\n",
    "    if number % 2 == 0:\n",
    "        print(\"even\")\n",
    "    \n",
    "    else:\n",
    "        print(\"odd\")\n",
    "\n",
    "even_odd(x)"
   ]
  },
  {
   "cell_type": "markdown",
   "metadata": {},
   "source": [
    "***  \n",
    "## Task 2: Outside or in-between  \n",
    "\n",
    "Write a program that checks whether x is inside or outside of ``[a...b]``. Test this"
   ]
  },
  {
   "cell_type": "code",
   "execution_count": 130,
   "metadata": {},
   "outputs": [
    {
     "name": "stdout",
     "output_type": "stream",
     "text": [
      "11 [43, 7, 9, 14, 49, 18, 11, 3, 25, 21]\n",
      "Inside\n"
     ]
    }
   ],
   "source": [
    "import random\n",
    " \n",
    "rand_list = random.sample(range(1,51), k=10)\n",
    "x = random.randint(1,51)\n",
    "\n",
    "print(x, rand_list)\n",
    "\n",
    "if x in rand_list:\n",
    "    print(\"Inside\")\n",
    "\n",
    "else:\n",
    "    print(\"Outside\")"
   ]
  },
  {
   "cell_type": "markdown",
   "metadata": {},
   "source": [
    "***  \n",
    "## Task 3: special number output  \n",
    "\n",
    "Count from **1 to 30** and:\n",
    "- only output numbers which:\n",
    "    - are even\n",
    "    - are smaller than 24\n",
    "    - are not square numbers (e.g. 4, 9, 16)\n",
    "\n",
    "Implement this program with both a **for** and a **while** loop."
   ]
  },
  {
   "cell_type": "code",
   "execution_count": 176,
   "metadata": {},
   "outputs": [
    {
     "name": "stdout",
     "output_type": "stream",
     "text": [
      "2\n",
      "6\n",
      "8\n",
      "10\n",
      "12\n",
      "14\n",
      "18\n",
      "20\n",
      "22\n",
      "24\n"
     ]
    }
   ],
   "source": [
    "from math import sqrt\n",
    "\n",
    "for x in range(1,31):\n",
    "    if x % 2 == 0 and x <= 24 and sqrt(x) != int(sqrt(x)):\n",
    "        print(x)"
   ]
  },
  {
   "cell_type": "markdown",
   "metadata": {},
   "source": [
    "***  \n",
    "## Task 4 - Table with Fahrenheit programmed with for loop  \n",
    "\n",
    "\n",
    "°Celsium can be converted to °Fahrenheit using the following formula.\n",
    "\n",
    "\n",
    "$$\n",
    "{\\displaystyle \\left\\{t\\right\\}_{\\mathrm {^{\\circ }F} }=\\left\\{t\\right\\}_{\\mathrm {^{\\circ }C} }\\cdot {\\tfrac {9}{5}}+32}\n",
    "$$\n",
    "\n",
    "\n",
    "\n",
    "Write a program that displays the °C from -10° to +30° on the console\n",
    "\n",
    "*Note: To round a float number you can use the function round(3.1415, 3), which in this example outputs 3.142.*"
   ]
  },
  {
   "cell_type": "code",
   "execution_count": 3,
   "metadata": {},
   "outputs": [
    {
     "name": "stdout",
     "output_type": "stream",
     "text": [
      "14.0\n",
      "15.8\n",
      "17.6\n",
      "19.4\n",
      "21.2\n",
      "23.0\n",
      "24.8\n",
      "26.6\n",
      "28.4\n",
      "30.2\n",
      "32.0\n",
      "33.8\n",
      "35.6\n",
      "37.4\n",
      "39.2\n",
      "41.0\n",
      "42.8\n",
      "44.6\n",
      "46.4\n",
      "48.2\n",
      "50.0\n",
      "51.8\n",
      "53.6\n",
      "55.4\n",
      "57.2\n",
      "59.0\n",
      "60.8\n",
      "62.6\n",
      "64.4\n",
      "66.2\n",
      "68.0\n",
      "69.8\n",
      "71.6\n",
      "73.4\n",
      "75.2\n",
      "77.0\n",
      "78.8\n",
      "80.6\n",
      "82.4\n",
      "84.2\n",
      "86.0\n"
     ]
    }
   ],
   "source": [
    "def c_to_f(degree):\n",
    "    far = round((degree * (9/5)) + 32, 3)\n",
    "    print(far)\n",
    "\n",
    "for deg in range(-10,31):\n",
    "    c_to_f(deg)"
   ]
  },
  {
   "cell_type": "code",
   "execution_count": 11,
   "metadata": {},
   "outputs": [
    {
     "name": "stdout",
     "output_type": "stream",
     "text": [
      "14.0\n",
      "15.8\n",
      "17.6\n",
      "19.4\n",
      "21.2\n",
      "23.0\n",
      "24.8\n",
      "26.6\n",
      "28.4\n",
      "30.2\n",
      "32.0\n",
      "33.8\n",
      "35.6\n",
      "37.4\n",
      "39.2\n",
      "41.0\n",
      "42.8\n",
      "44.6\n",
      "46.4\n",
      "48.2\n",
      "50.0\n",
      "51.8\n",
      "53.6\n",
      "55.4\n",
      "57.2\n",
      "59.0\n",
      "60.8\n",
      "62.6\n",
      "64.4\n",
      "66.2\n",
      "68.0\n",
      "69.8\n",
      "71.6\n",
      "73.4\n",
      "75.2\n",
      "77.0\n",
      "78.8\n",
      "80.6\n",
      "82.4\n",
      "84.2\n",
      "86.0\n"
     ]
    }
   ],
   "source": [
    "deg = -11\n",
    "\n",
    "while deg <= 29:\n",
    "    deg += 1\n",
    "    c_to_f(deg)"
   ]
  },
  {
   "cell_type": "markdown",
   "metadata": {},
   "source": [
    "***  \n",
    "## Task 5 - min max avg  \n",
    "\n",
    "Write a program that reads integers until the letter X or x is pressed. After each number is entered, the current minimum, maximum and average are displayed on the console.\n",
    "\n",
    "Use the given structure for the query"
   ]
  },
  {
   "cell_type": "code",
   "execution_count": 58,
   "metadata": {},
   "outputs": [
    {
     "name": "stdout",
     "output_type": "stream",
     "text": [
      "Exit\n"
     ]
    }
   ],
   "source": [
    "counter = 0\n",
    "max1 = None\n",
    "min1 = None\n",
    "tot = 0\n",
    "\n",
    "while True:\n",
    "    i = input(\"Write any number or press \\\"X\\\" to exit: \")\n",
    "\n",
    "    if i.capitalize() == \"X\":\n",
    "        print(\"Exit\")\n",
    "        break\n",
    "\n",
    "    try:\n",
    "        i = float(i)\n",
    "    except ValueError:\n",
    "        print(\"It's not either a number or \\\"X\\\"\\n\")\n",
    "        continue\n",
    "\n",
    "    counter += 1\n",
    "    tot += i\n",
    "    gavg = round(tot / counter,3)\n",
    "\n",
    "    if min1 is None or i < min1:\n",
    "        min1 = i\n",
    "\n",
    "    if max1 is None or i > max1:\n",
    "        max1 = i\n",
    "\n",
    "    if min1 is not None and max1 is not None:\n",
    "        lavg = round((max1 + min1) / 2,3)\n",
    "    else:\n",
    "        lavg = None\n",
    "\n",
    "    print(f\"counter: {counter}\\nmin: {min1}\\nmax: {max1}\\nlocal average: {lavg}\\nglobal average: {gavg}\\n\")"
   ]
  },
  {
   "cell_type": "code",
   "execution_count": 5,
   "metadata": {},
   "outputs": [
    {
     "name": "stdout",
     "output_type": "stream",
     "text": [
      "counter: 1\n",
      "min: 3.0\n",
      "max: 3.0\n",
      "local average: 3.0\n",
      "global average: 3.0\n",
      "\n",
      "counter: 2\n",
      "min: 3.0\n",
      "max: 4.0\n",
      "local average: 3.5\n",
      "global average: 3.5\n",
      "\n",
      "counter: 3\n",
      "min: -5.0\n",
      "max: 4.0\n",
      "local average: -0.5\n",
      "global average: 0.667\n",
      "\n",
      "It's not either a number or \"X\"\n",
      "\n",
      "It's not either a number or \"X\"\n",
      "\n",
      "It's not either a number or \"X\"\n",
      "\n",
      "Exit\n"
     ]
    }
   ],
   "source": [
    "def prompt(prompt_text, validation):\n",
    "    while True:\n",
    "        reply = input(prompt_text)\n",
    "        result = validation(reply)\n",
    "        if result is None:\n",
    "            print(\"It's not either a number or \\\"X\\\"\\n\")\n",
    "        else:\n",
    "            return result\n",
    "    \n",
    "response = prompt(\n",
    "    \"Enter a number: \",\n",
    "    lambda x: int(x) if x.isdigit() and int(x) > 0 else None\n",
    ")\n",
    "\n",
    "def valid_input(text):\n",
    "    if text.capitalize() == \"X\":\n",
    "        return \"X\"\n",
    "    try:\n",
    "        return float(text)\n",
    "    except ValueError:\n",
    "        return None\n",
    "\n",
    "counter = 0\n",
    "max1 = None\n",
    "min1 = None\n",
    "tot = 0\n",
    "\n",
    "while True:\n",
    "    i = prompt(\n",
    "        \"Write any number or presso 'X' to exit: \",\n",
    "        valid_input\n",
    "    )\n",
    "\n",
    "    if i == \"X\":\n",
    "        print(\"Exit\")\n",
    "        break\n",
    "\n",
    "    i = float(i)\n",
    "\n",
    "    counter += 1\n",
    "    tot += i\n",
    "    gavg = round(tot / counter,3)\n",
    "\n",
    "    if min1 is None or i < min1:\n",
    "        min1 = i\n",
    "\n",
    "    if max1 is None or i > max1:\n",
    "        max1 = i\n",
    "\n",
    "    if min1 is not None and max1 is not None:\n",
    "        lavg = round((max1 + min1) / 2,3)\n",
    "    else:\n",
    "        lavg = None\n",
    "\n",
    "    print(f\"counter: {counter}\\nmin: {min1}\\nmax: {max1}\\nlocal average: {lavg}\\nglobal average: {gavg}\\n\")"
   ]
  }
 ],
 "metadata": {
  "kernelspec": {
   "display_name": "base",
   "language": "python",
   "name": "python3"
  },
  "language_info": {
   "codemirror_mode": {
    "name": "ipython",
    "version": 3
   },
   "file_extension": ".py",
   "mimetype": "text/x-python",
   "name": "python",
   "nbconvert_exporter": "python",
   "pygments_lexer": "ipython3",
   "version": "3.12.4"
  }
 },
 "nbformat": 4,
 "nbformat_minor": 4
}
