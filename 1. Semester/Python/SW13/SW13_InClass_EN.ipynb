{
 "cells": [
  {
   "cell_type": "markdown",
   "id": "3c7LoF_1GtSH",
   "metadata": {
    "id": "3c7LoF_1GtSH"
   },
   "source": [
    "# SW13 InClass - Repetition and Programming\n",
    "\n",
    "This file is intended for interactive repetition in the first lesson in class. You write directly into the lines of code.\n",
    "\n",
    "***"
   ]
  },
  {
   "cell_type": "markdown",
   "id": "c875f42f",
   "metadata": {
    "id": "c875f42f"
   },
   "source": [
    "# Expected value and variance of a continuous random variable\n",
    "\n",
    "In the case of a continuous RV, the expected value (if it exists) is calculated by means of integration:\n",
    "$$\n",
    "{\\rm E}(X)=\\int_{-\\infty}^\\infty x\\cdot f(x)\\ {\\rm d}x.\n",
    "$$\n",
    "\n",
    "Accordingly the variance:\n",
    "$$\n",
    "{\\rm Var}(X)=\\int_{-\\infty}^\\infty(x-{\\rm E}(X))^2\\cdot f(x)\\ {\\rm d}x.\n",
    "$$"
   ]
  },
  {
   "cell_type": "markdown",
   "id": "f7941960",
   "metadata": {
    "id": "f7941960"
   },
   "source": [
    "### Example: Uniform distribution\n",
    "\n",
    "The probability density of a RV $X$ with uniform distribution in the interval $[-\\frac12,\\frac12]$ is\n",
    "$$\n",
    "f(x)=\\left\\{\\begin{array}{ll}1, & |x|\\le\\frac12 \\\\ 0, & |x|\\gt\\frac12\\end{array}\\right...\n",
    "$$\n",
    "\n",
    "The expected value of $X$ is obviously zero.\n",
    "\n",
    "Numerical calculation of the variance of $X$:"
   ]
  },
  {
   "cell_type": "code",
   "execution_count": null,
   "id": "zOulugHIDBGV",
   "metadata": {
    "colab": {
     "base_uri": "https://localhost:8080/"
    },
    "executionInfo": {
     "elapsed": 516,
     "status": "ok",
     "timestamp": 1723188767618,
     "user": {
      "displayName": "Tommy Hunziker",
      "userId": "15630146278306291522"
     },
     "user_tz": -420
    },
    "id": "zOulugHIDBGV",
    "outputId": "98e65048-47e3-47f6-f634-e438b73a9975"
   },
   "outputs": [
    {
     "name": "stdout",
     "output_type": "stream",
     "text": [
      "0.08333333335016667\n"
     ]
    }
   ],
   "source": [
    "import numpy as np\n",
    "\n",
    "dx = 0.00001\n",
    "x = np.arange(-0.5,0.5,dx)\n",
    "Var_X = np.sum(x**2)*dx\n",
    "print(Var_X)"
   ]
  },
  {
   "cell_type": "markdown",
   "id": "BbXx2xxEDkYC",
   "metadata": {
    "id": "BbXx2xxEDkYC"
   },
   "source": [
    "### Problems\n",
    "* What is the cumulative distribution function of $X$?\n",
    "* Calculate the probability $P(X>0.3)$."
   ]
  },
  {
   "cell_type": "markdown",
   "id": "E2eiXuvn0a3J",
   "metadata": {
    "id": "E2eiXuvn0a3J"
   },
   "source": [
    "### Example: Exponential distribution\n",
    "\n",
    "The probability density of a RV $X$ with exponential distribution with rate $\\lambda$ is\n",
    "$$\n",
    "f(x)=\\left\\{\\begin{array}{ll}\\lambda e^{-\\lambda x}, & x\\ge0 \\\\ 0, & x\\lt0\\end{array}\\right...\n",
    "$$\n",
    "\n",
    "Numerical calculation of expected value and variance of $X$:"
   ]
  },
  {
   "cell_type": "code",
   "execution_count": null,
   "id": "Z6M6ZSlS1rDu",
   "metadata": {
    "colab": {
     "base_uri": "https://localhost:8080/"
    },
    "executionInfo": {
     "elapsed": 405,
     "status": "ok",
     "timestamp": 1724057754938,
     "user": {
      "displayName": "Tommy Hunziker",
      "userId": "15630146278306291522"
     },
     "user_tz": -420
    },
    "id": "Z6M6ZSlS1rDu",
    "outputId": "ab24365a-934b-42a8-adca-f2e55f2ed363"
   },
   "outputs": [
    {
     "name": "stdout",
     "output_type": "stream",
     "text": [
      "0.5000307430159483 0.24910515846543757\n"
     ]
    }
   ],
   "source": [
    "import numpy as np\n",
    "\n",
    "lam = 2\n",
    "x = np.random.exponential(scale=1/lam, size=100000)\n",
    "print(np.mean(x),np.var(x))\n"
   ]
  },
  {
   "cell_type": "markdown",
   "id": "DBFUDq1MWar-",
   "metadata": {
    "id": "DBFUDq1MWar-"
   },
   "source": [
    "In general, the following applies to the exponential distribution: ${\\rm E}(X)=\\frac{1}{\\lambda}$ and ${\\rm Var}(X)=\\frac{1}{\\lambda^2}$."
   ]
  },
  {
   "cell_type": "markdown",
   "id": "S-W3oPXHFaoA",
   "metadata": {
    "id": "S-W3oPXHFaoA"
   },
   "source": [
    "### Problems\n",
    "* What is the cumulative distribution function of $X$?\n",
    "* Calculate the probability $P(X>0.3)$ for $\\lambda=1$."
   ]
  },
  {
   "cell_type": "markdown",
   "id": "REKDx46ZrZvu",
   "metadata": {
    "id": "REKDx46ZrZvu"
   },
   "source": [
    "### Properties of expected value and variance\n",
    "If $X$ and $Y$ are two RVs, the following applies:\n",
    "* ${\\rm E}(X+Y)={\\rm E}(X)+{\\rm E}(Y)$\n",
    "* if $X$ and $Y$ are independent, then ${\\rm E}(X\\cdot Y)={\\rm E}(X)\\cdot{\\rm E}(Y)$\n",
    "* If $X$ and $Y$ are independent, then ${\\rm Var}(X+Y)={\\rm Var}(X)+{\\rm Var}(Y)$"
   ]
  },
  {
   "cell_type": "markdown",
   "id": "eFRsbZ-msDvz",
   "metadata": {
    "id": "eFRsbZ-msDvz"
   },
   "source": [
    "### Problem\n",
    "Given two independent random variables $X$ and $Y$, both with a uniform distribution in the interval $[0,1]$. What is the expected value and variance for the random variable $Z=X+Y$?"
   ]
  },
  {
   "cell_type": "markdown",
   "id": "IkuL52xlici7",
   "metadata": {
    "id": "IkuL52xlici7"
   },
   "source": [
    "## Sum of independent random variables\n",
    "Physical phenomena are often the result of the superposition of many individual variables. For example, thermal noise in resistors, which is caused by the thermal movement of charge carriers, or the results of surveys in general.\n",
    "We consider the sum of $n$ independent identically distributed ZV $X_1,X_2,\\dots,X_n$ with expectation value 0:\n",
    "$$\n",
    "Z_n=\\frac{X_1+X_2+\\dots+X_n}{\\sqrt{n}}.\n",
    "$$"
   ]
  },
  {
   "cell_type": "markdown",
   "id": "73yduxTTjSXx",
   "metadata": {
    "id": "73yduxTTjSXx"
   },
   "source": [
    "### Example of uniform distribution\n",
    "Let $X_1,X_2,\\dots,X_n$ be independent RVs with uniform distribution in the interval $[-\\frac12,\\frac12]$. Below we numerically find the distribution of\n",
    "$$\n",
    "Z_n=\\frac{X_1+X_2+\\cdots+X_n}{\\sqrt{n}}.\n",
    "$$\n",
    "What do we find?"
   ]
  },
  {
   "cell_type": "code",
   "execution_count": 1,
   "id": "1tc9kyBDdcy0",
   "metadata": {
    "colab": {
     "base_uri": "https://localhost:8080/",
     "height": 448
    },
    "executionInfo": {
     "elapsed": 1748,
     "status": "ok",
     "timestamp": 1724726388901,
     "user": {
      "displayName": "Tommy Hunziker",
      "userId": "15630146278306291522"
     },
     "user_tz": -420
    },
    "id": "1tc9kyBDdcy0",
    "outputId": "d5800e8a-d515-4812-b03a-8336fad68f76"
   },
   "outputs": [
    {
     "name": "stdout",
     "output_type": "stream",
     "text": [
      "-0.0006249565311940759 0.08428012969375974\n"
     ]
    },
    {
     "data": {
      "image/png": "[encoded data removed]",
      "text/plain": [
       "<Figure size 640x480 with 1 Axes>"
      ]
     },
     "metadata": {},
     "output_type": "display_data"
    }
   ],
   "source": [
    "import numpy as np\n",
    "import matplotlib.pyplot as plt\n",
    "\n",
    "n = 10\n",
    "\n",
    "x = np.sum(np.random.random(size=(100000,n))-0.5,axis=1)/np.sqrt(n)\n",
    "plt.hist(x, bins=np.arange(-1,1,0.01), range=None, density=True),\n",
    "print(np.mean(x),np.var(x))"
   ]
  },
  {
   "cell_type": "markdown",
   "id": "syL0IW55kQO6",
   "metadata": {
    "id": "syL0IW55kQO6"
   },
   "source": [
    "# Central limit theorem\n",
    "The distribution of the sum of independent RVs converges (under certain conditions) to the normal distribution.\n",
    "\n",
    "Let $X_1,X_2,\\dots,X_n$ be a sequence of independent and identically distributed random variables with expected value $\\mu$ and standard deviation $\\sigma$ and\n",
    "$$\n",
    "Z_n=\\frac{X_1+X_2+\\dots+X_n-n\\mu}{\\sqrt{n}\\cdot\\sigma}.\n",
    "$$\n",
    "For $n\\to \\infty$ the distribution function of $Z_n$ converges to the distribution function of the standard normal distribution.\n",
    "\n"
   ]
  },
  {
   "cell_type": "markdown",
   "id": "zub0mXIzhQkm",
   "metadata": {
    "id": "zub0mXIzhQkm"
   },
   "source": [
    "### Problem\n",
    "In an experiment, the number of “heads” results is determined over 100 tosses of a coin. If the RV $Y$ represents this number, then\n",
    "$$\n",
    "{\\rm E}(Y)=50.\n",
    "$$\n",
    "* Determine the variance ${\\rm Var}(Y)$.\n",
    "* In the following program, the experiment is carried out 10000 times and the corresponding values of $Z_n$ (see above) are stored in z. Plot the distribution of z in a histogram and compare it with the probability density of the standard normal distribution.\n",
    "\n"
   ]
  },
  {
   "cell_type": "code",
   "execution_count": null,
   "id": "8OChyZEe-r7M",
   "metadata": {
    "id": "8OChyZEe-r7M"
   },
   "outputs": [],
   "source": [
    "import numpy as np\n",
    "import matplotlib.pyplot as plt\n",
    "\n",
    "z = (np.sum(np.random.randint(2,size=(10000,100)),axis=1)-50)/5\n",
    "..."
   ]
  }
 ],
 "metadata": {
  "colab": {
   "provenance": [
    {
     "file_id": "1BrSITwQF7uiywp46TZu26daBwgHMO9BK",
     "timestamp": 1730795071355
    }
   ]
  },
  "kernelspec": {
   "display_name": "Python 3 (ipykernel)",
   "language": "python",
   "name": "python3"
  },
  "language_info": {
   "codemirror_mode": {
    "name": "ipython",
    "version": 3
   },
   "file_extension": ".py",
   "mimetype": "text/x-python",
   "name": "python",
   "nbconvert_exporter": "python",
   "pygments_lexer": "ipython3",
   "version": "3.9.5"
  }
 },
 "nbformat": 4,
 "nbformat_minor": 5
}
