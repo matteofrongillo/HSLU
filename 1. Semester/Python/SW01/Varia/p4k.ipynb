{
 "cells": [
  {
   "cell_type": "code",
   "execution_count": 6,
   "id": "a35ef574-7a44-423f-b89c-50aec6c803dd",
   "metadata": {},
   "outputs": [],
   "source": [
    "def get_float(msg = \"Bitte Zahl eingeben: \"):\n",
    "\n",
    "    while True:\n",
    "\n",
    "        try:\n",
    "\n",
    "            f = float(input(msg))\n",
    "\n",
    "            return f\n",
    "\n",
    "        except ValueError:\n",
    "\n",
    "            print(\"Ops! Ungültige Eingabe. Bitte nochmals probieren: \")"
   ]
  }
 ],
 "metadata": {
  "kernelspec": {
   "display_name": "Python 3 (ipykernel)",
   "language": "python",
   "name": "python3"
  },
  "language_info": {
   "codemirror_mode": {
    "name": "ipython",
    "version": 3
   },
   "file_extension": ".py",
   "mimetype": "text/x-python",
   "name": "python",
   "nbconvert_exporter": "python",
   "pygments_lexer": "ipython3",
   "version": "3.11.9"
  }
 },
 "nbformat": 4,
 "nbformat_minor": 5
}
