{
 "cells": [
  {
   "cell_type": "code",
   "execution_count": 5,
   "metadata": {},
   "outputs": [
    {
     "name": "stdout",
     "output_type": "stream",
     "text": [
      "Reply with:\n",
      " B = Before the proposed year\n",
      " A = After the proposed year\n",
      " T = The exact year\n",
      " X = Exit\n",
      "\n"
     ]
    },
    {
     "ename": "SystemExit",
     "evalue": "Exit",
     "output_type": "error",
     "traceback": [
      "An exception has occurred, use %tb to see the full traceback.\n",
      "\u001b[0;31mSystemExit\u001b[0m\u001b[0;31m:\u001b[0m Exit\n"
     ]
    }
   ],
   "source": [
    "from random import randrange\n",
    "from sys import exit\n",
    "\n",
    "# ======================\n",
    "\n",
    "def guess_range(low, high, label):\n",
    "    while low <= high:\n",
    "        guess = randrange(low, high+1)\n",
    "        answer = input(f\"Were you born before, after, or this {label}: {guess}? [B/A/T/X] \").upper()\n",
    "\n",
    "        if answer == \"B\":\n",
    "            high = guess - 1\n",
    "        elif answer == \"A\":\n",
    "            low = guess + 1\n",
    "        elif answer == \"T\":\n",
    "            print(f\"You confirmed {label} {guess}.\")\n",
    "            return guess\n",
    "        elif answer == \"X\":\n",
    "            exit(\"Exit\")\n",
    "        else:\n",
    "            print(\"Not an answer, try again.\")\n",
    "\n",
    "    print(\"Error\")\n",
    "    return None\n",
    "\n",
    "def is_leap_year(year):\n",
    "    return (year % 400 == 0) or (year % 4 == 0 and year % 100 != 0)\n",
    "\n",
    "# ======================\n",
    "\n",
    "print(\"Reply with:\\n B = Before the proposed year\\n A = After the proposed year\\n T = The exact year\\n X = Exit\\n\")\n",
    "\n",
    "year = guess_range(1900, 2025, \"year\")\n",
    "\n",
    "month = guess_range(1, 12, \"month\")\n",
    "if month in {4, 6, 9, 11}:\n",
    "    max_days = 30\n",
    "elif month == 2:\n",
    "    max_days = 29 if is_leap_year(year) else 28\n",
    "else:\n",
    "    max_days = 31\n",
    "\n",
    "day = guess_range(1, max_days, \"day\")\n",
    "\n",
    "print(f\"\\nYour birthday is (dd/mm/yyyy) {day:02d}/{month:02d}/{year}.\")"
   ]
  }
 ],
 "metadata": {
  "kernelspec": {
   "display_name": "base",
   "language": "python",
   "name": "python3"
  },
  "language_info": {
   "codemirror_mode": {
    "name": "ipython",
    "version": 3
   },
   "file_extension": ".py",
   "mimetype": "text/x-python",
   "name": "python",
   "nbconvert_exporter": "python",
   "pygments_lexer": "ipython3",
   "version": "3.12.4"
  }
 },
 "nbformat": 4,
 "nbformat_minor": 2
}
