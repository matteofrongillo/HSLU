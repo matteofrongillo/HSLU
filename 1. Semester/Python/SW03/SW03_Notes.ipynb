{
 "cells": [
  {
   "cell_type": "markdown",
   "metadata": {},
   "source": [
    "# Loops\n",
    "At the end of the loop conditions you always need to put \":\""
   ]
  },
  {
   "cell_type": "markdown",
   "metadata": {},
   "source": [
    "## IF ELIF ELSE"
   ]
  },
  {
   "cell_type": "code",
   "execution_count": 40,
   "metadata": {},
   "outputs": [
    {
     "name": "stdout",
     "output_type": "stream",
     "text": [
      "x is maybe 9\n"
     ]
    }
   ],
   "source": [
    "x = 10\n",
    "if (x==10) or (x==9):\n",
    "    print(\"x is maybe 9\")\n",
    "else:\n",
    "    print(\"your mom is fat\")"
   ]
  },
  {
   "cell_type": "markdown",
   "metadata": {},
   "source": [
    "## For"
   ]
  },
  {
   "cell_type": "code",
   "execution_count": 6,
   "metadata": {},
   "outputs": [
    {
     "name": "stdout",
     "output_type": "stream",
     "text": [
      "g\n",
      "gay\n",
      "a\n",
      "gay\n",
      "y\n",
      "gay\n"
     ]
    }
   ],
   "source": [
    "var_input = input(\"Write something funny\")\n",
    "for i in var_input:\n",
    "    print(i)\n",
    "\n",
    "    for i in range(1):\n",
    "        print(\"gay\")"
   ]
  },
  {
   "cell_type": "markdown",
   "metadata": {},
   "source": [
    "## While"
   ]
  },
  {
   "cell_type": "code",
   "execution_count": 106,
   "metadata": {},
   "outputs": [
    {
     "name": "stdout",
     "output_type": "stream",
     "text": [
      "1\n",
      "2\n",
      "3\n",
      "4\n",
      "5\n",
      "6\n",
      "7\n",
      "8\n",
      "9\n",
      "10\n"
     ]
    }
   ],
   "source": [
    "condition = True\n",
    "x = 0\n",
    "\n",
    "while condition:\n",
    "    x += 1\n",
    "    print(x)\n",
    "\n",
    "    if x >= 10:\n",
    "        condition = False"
   ]
  },
  {
   "cell_type": "code",
   "execution_count": 8,
   "metadata": {},
   "outputs": [
    {
     "name": "stdout",
     "output_type": "stream",
     "text": [
      "wrong passowrd, try again\n",
      "wrong passowrd, try again\n",
      "wrong passowrd, try again\n",
      "wrong passowrd, try again\n",
      "wrong passowrd, try again\n",
      "login disabled\n"
     ]
    }
   ],
   "source": [
    "PSW = \"caccaculo\"\n",
    "\n",
    "nr_att = 0\n",
    "\n",
    "while True:\n",
    "\n",
    "    var_in = input(\"Enter your password\")\n",
    "\n",
    "    if var_in == PSW:\n",
    "        print(\"welcome back\")\n",
    "        break\n",
    "   \n",
    "    else:\n",
    "        print(\"wrong passowrd, try again\")\n",
    "\n",
    "    nr_att += 1\n",
    "\n",
    "    if nr_att >= 5:\n",
    "        print(\"login disabled\")\n",
    "        break\n"
   ]
  },
  {
   "cell_type": "code",
   "execution_count": 27,
   "metadata": {},
   "outputs": [
    {
     "name": "stdout",
     "output_type": "stream",
     "text": [
      "BMI 24.0 - normal weight\n"
     ]
    }
   ],
   "source": [
    "w = float(input(\"Enter your weight: \"))\n",
    "h = float(input(\"Enter your high: \"))\n",
    "\n",
    "if h > 3:\n",
    "    h = h/100\n",
    "else:\n",
    "    h\n",
    "\n",
    "BMI = int(w/(h**2))\n",
    "\n",
    "while True:\n",
    "    if BMI <= 18.5:\n",
    "        print(f\"BMI {BMI:.1f} - underweith\")\n",
    "        break\n",
    "    \n",
    "    elif 18.5 < BMI <= 25:\n",
    "        print(f\"BMI {BMI:.1f} - normal weight\")\n",
    "        break\n",
    "        \n",
    "    elif 25 < BMI == 30:\n",
    "        print(f\"BMI {BMI:.1f} - overweight\")\n",
    "        break\n",
    "        \n",
    "    else:\n",
    "        print(f\"BMI {BMI:.1f} - obesity\")\n",
    "        break"
   ]
  }
 ],
 "metadata": {
  "kernelspec": {
   "display_name": "base",
   "language": "python",
   "name": "python3"
  },
  "language_info": {
   "codemirror_mode": {
    "name": "ipython",
    "version": 3
   },
   "file_extension": ".py",
   "mimetype": "text/x-python",
   "name": "python",
   "nbconvert_exporter": "python",
   "pygments_lexer": "ipython3",
   "version": "3.12.4"
  }
 },
 "nbformat": 4,
 "nbformat_minor": 2
}
