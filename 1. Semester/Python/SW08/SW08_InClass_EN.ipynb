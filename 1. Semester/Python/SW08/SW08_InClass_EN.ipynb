{
 "cells": [
  {
   "cell_type": "markdown",
   "metadata": {},
   "source": [
    "# SW08 InClass - Repetition and Programming  \n",
    "\n",
    "This file is intended for interactive revision in the first hour of class. You write directly in the lines of code."
   ]
  },
  {
   "cell_type": "markdown",
   "metadata": {},
   "source": [
    "# Task 1 - Ball Surface  \n",
    "\n",
    "- Define the function ``ball_surface(radius)``, which can calculate and **return** the surface area of ​​a sphere.\n",
    "- Provide the function with **Type-Hints**\n",
    "- Provide the function with a **Doc string**\n",
    "- Give the function a **default value** of 5\n",
    "- Test this"
   ]
  },
  {
   "cell_type": "code",
   "execution_count": null,
   "metadata": {
    "vscode": {
     "languageId": "plaintext"
    }
   },
   "outputs": [],
   "source": []
  },
  {
   "cell_type": "markdown",
   "metadata": {},
   "source": [
    "# Task 2 - Distance 2d  \n",
    "- Define the function that can calculate the distance between two points in 2D: ``distance_2D((x1,y1)(x2,y2))``\n",
    "- test these"
   ]
  },
  {
   "cell_type": "code",
   "execution_count": null,
   "metadata": {
    "vscode": {
     "languageId": "plaintext"
    }
   },
   "outputs": [],
   "source": []
  },
  {
   "cell_type": "markdown",
   "metadata": {},
   "source": [
    "## Task 3 - Farenheit  \n",
    "\n",
    "- Write a function ``celcius_fahrenheit(deg:float)`` which converts a temperature from **°Celcius to °Fahrenheit**.\n",
    "- Extend the **input and return values** with **type hints**\n",
    "- Create a **DocString** for the function\n",
    "\n",
    "- Test the function\n",
    "- 0°C = 32°F\n",
    "- 37°C $\\approx $ 98.6°F"
   ]
  },
  {
   "cell_type": "code",
   "execution_count": null,
   "metadata": {
    "vscode": {
     "languageId": "plaintext"
    }
   },
   "outputs": [],
   "source": []
  },
  {
   "cell_type": "markdown",
   "metadata": {},
   "source": [
    "# Array tasks  "
   ]
  },
  {
   "cell_type": "markdown",
   "metadata": {},
   "source": [
    "## Array Arithmetic I  \n",
    "\n",
    "Write a NumPy program to create an **8x8 matrix** and fill it with a **checkerboard pattern** (``1 = \"white\" and 0 = black``). Use **array indexing** to create the checkerboard.\n",
    "\n",
    "<div style=\"text-align: center;\">\n",
    "<img src=\"https://houseofchess.co.za/cdn/shop/products/vinyllargeblack10.jpg?v=1639083970\" alt=\"vinyl image\" width=\"300px\">\n",
    "</div>\n",
    "\n"
   ]
  },
  {
   "cell_type": "code",
   "execution_count": null,
   "metadata": {
    "vscode": {
     "languageId": "plaintext"
    }
   },
   "outputs": [],
   "source": []
  },
  {
   "cell_type": "markdown",
   "metadata": {},
   "source": [
    "## Array Arithmetic II (OPTIONAL -> difficult)  \n",
    "\n",
    "Write the function ``same_elements(arr_1,arr_2), `` which returns the **common values** between the **two 1D arrays**.\n",
    "\n",
    "- Extend the function with **Type Hints** for the **input and return values** (Type array: ``np.nd_array``)\n",
    "- Create a **DocString**\n",
    "- Test the function with the following arrays:\n",
    "\n",
    "```python\n",
    "x = np.array([1,2,3,4,5,6,7,8])\n",
    "y = np.array([4,5,6])\n",
    "```"
   ]
  },
  {
   "cell_type": "code",
   "execution_count": null,
   "metadata": {
    "vscode": {
     "languageId": "plaintext"
    }
   },
   "outputs": [],
   "source": []
  }
 ],
 "metadata": {
  "kernelspec": {
   "display_name": "base",
   "language": "python",
   "name": "python3"
  },
  "language_info": {
   "codemirror_mode": {
    "name": "ipython",
    "version": 3
   },
   "file_extension": ".py",
   "mimetype": "text/x-python",
   "name": "python",
   "nbconvert_exporter": "python",
   "pygments_lexer": "ipython3",
   "version": "3.10.13"
  }
 },
 "nbformat": 4,
 "nbformat_minor": 2
}
