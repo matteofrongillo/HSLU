{
 "cells": [
  {
   "cell_type": "markdown",
   "metadata": {},
   "source": [
    "# Work assignment SW11 - PYTHON BASICS\n",
    "\n",
    "These are the self-study tasks of the semester week, which you will solve within one week in your JupyterHub environment. After completing your work, download a copy of the Jupyter notebook file locally to your laptop (Menu: File->Download).\n",
    "\n",
    "On ILIAS you will find the weekly scheduled assignment where you will upload your solved Jupyter notebook file. After your submission, you will receive a corresponding sample solution to the assignment. Your submission will not be corrected. Although the assignments are marked “mandatory”, they do not count towards your semester grades. Only the grades of the tests during the semester are relevant for this. \n",
    "\n",
    "We wish you every success!\n"
   ]
  },
  {
   "cell_type": "markdown",
   "metadata": {},
   "source": [
    "---\n",
    "---\n",
    "## Exercise 1\n",
    "\n",
    "At a (hypothetical) Swiss university, 80% of the students are from the canton ($K$) and 20% from outside the canton ($\\overline{K}$). The distribution of cantonal students across the degree programs is as follows: \n",
    "\n",
    "- Electrical engineering ($E$): $30\\%$\n",
    "- Mechanical engineering ($M$): $30\\%$\n",
    "- Computer science ($I$): $40\\%$\n",
    "\n",
    "For those outside the canton, this is: \n",
    "\n",
    "- Electrical engineering ($E$): $5\\%$\n",
    "- Mechanical engineering ($M$): $15\\%$\n",
    "- Computer science ($I$): $80\\%$\n",
    "\n",
    "a) Create a probability tree, starting at the root with the decision $K \\leftrightarrow \\overline{K}$ - cantonal to extra-cantonal - and enter the corresponding probabilities (symbolic and numerical) on all branches and leaves.\n",
    "\n",
    "### Solution\n"
   ]
  },
  {
   "cell_type": "markdown",
   "metadata": {},
   "source": [
    "<img src=img/auftrag_tree.png alt=Drawing width=550 />"
   ]
  },
  {
   "cell_type": "markdown",
   "metadata": {},
   "source": [
    "---\n",
    "\n",
    "b) Now use the [numpy](https://numpy.org) random generator [numpy.random.Generator](https://numpy.org/doc/stable/reference/random/generated/numpy.random.Generator.choice.html#numpy.random.Generator.choice) to simulate the above probabilities. Proceed as in [Theorieteil](SW11_Theorie_en.ipynb) or as in [Class](SW11_InClass_Vorlage_en.ipynb). \n",
    "\n",
    "### Solution \n"
   ]
  },
  {
   "cell_type": "code",
   "execution_count": null,
   "metadata": {},
   "outputs": [
    {
     "name": "stdout",
     "output_type": "stream",
     "text": [
      "Number of local:  789 in percent:  78.9 %\n",
      "Number of non-local:  211 in percent:  21.1 %\n",
      "\n",
      "Number of local electrical:  301 in percent:  30.1 %\n",
      "Number of local mechanical:  297 in percent:  29.7 %\n",
      "Number of local IT:  402 in percent:  40.2 %\n",
      "\n",
      "Number of local electrical:  48 in percent:  4.8 %\n",
      "Number of local mechanical:  141 in percent:  14.1 %\n",
      "Number of local IT:  811 in percent:  81.1 %\n"
     ]
    }
   ],
   "source": [
    "import numpy as np\n",
    "\n",
    "PK = 0.8\n",
    "PN = 1 - PK\n",
    "\n",
    "sampleSize = 1000\n",
    "\n",
    "rng = np.random.default_rng()\n",
    "randArr_1 = rng.choice([0,1], sampleSize, p=[PK,PN])\n",
    "\n",
    "nK = np.sum(randArr_1 == 0)\n",
    "nNK = np.sum(randArr_1 == 1)\n",
    "\n",
    "print('Number of local: ', nK, 'in percent: ', 100*nK/sampleSize, '%')\n",
    "print('Number of non-local: ', nNK, 'in percent: ', 100*nNK/sampleSize, '%')\n",
    "\n",
    "PEK = 0.3\n",
    "PMK = 0.3\n",
    "PIK = 1 - PEK - PMK\n",
    "\n",
    "randArr_2 = rng.choice([0,1,2], sampleSize, p=[PEK,PMK, PIK])\n",
    "\n",
    "nEK = np.sum(randArr_2 == 0)\n",
    "nMK = np.sum(randArr_2 == 1)\n",
    "nIK = np.sum(randArr_2 == 2)\n",
    "\n",
    "print('\\nNumber of local electrical: ', nEK, 'in percent: ', 100*nEK/sampleSize, '%')\n",
    "print('Number of local mechanical: ', nMK, 'in percent: ', 100*nMK/sampleSize, '%')\n",
    "print('Number of local IT: ', nIK, 'in percent: ', 100*nIK/sampleSize, '%')\n",
    "\n",
    "PEN = 0.05\n",
    "PMN = 0.15\n",
    "PIN = 1 - PEN - PMN\n",
    "\n",
    "randArr_3 = rng.choice([0,1,2], sampleSize, p=[PEN,PMN,PIN])\n",
    "\n",
    "nEN = np.sum(randArr_3 == 0)\n",
    "nMN = np.sum(randArr_3 == 1)\n",
    "nIN = np.sum(randArr_3 == 2)\n",
    "\n",
    "print('\\nNumber of local electrical: ', nEN, 'in percent: ', 100*nEN/sampleSize, '%')\n",
    "print('Number of local mechanical: ', nMN, 'in percent: ', 100*nMN/sampleSize, '%')\n",
    "print('Number of local IT: ', nIN, 'in percent: ', 100*nIN/sampleSize, '%')\n"
   ]
  },
  {
   "cell_type": "markdown",
   "metadata": {},
   "source": [
    "---\n",
    "\n",
    "c) Determine all probabilities in the tree below.\n",
    "\n",
    "<img src=img/Wahrscheinlichkeitsbaum_invertiert_full2_Auftrag.png alt=Drawing width=550 />\n",
    "\n",
    "### Solution"
   ]
  },
  {
   "cell_type": "markdown",
   "metadata": {},
   "source": [
    "$P(E) = P(E|K)P(K) + P(E|\\overline{K})P(\\overline{K})= 0.3\\cdot 0.8 + 0.05\\cdot0.2 = 0.25$\n",
    "\n",
    "$P(M) = P(M|K)P(K) + P(M|\\overline{K})P(\\overline{K})= 0.3\\cdot0.8 + 0.15\\cdot0.2 = 0.27$\n",
    "\n",
    "$P(I) = P(I|K)P(K) + P(I|\\overline{K})P(\\overline{K})= 0.4\\cdot0.8 + 0.8\\cdot0.2 = 0.48$\n",
    "\n",
    "---\n",
    "\n",
    "$P(K|E) = \\dfrac{P(E|K)P(K)}{P(E)} = \\dfrac{0.3 \\cdot 0.8}{0.25} = 0.96$\n",
    "\n",
    "$P(\\overline{K}|E) = 1 - P(K|E) = 1-0.96 = 0.04$\n",
    "\n",
    "$P(E \\cap K) = P(E|K)P(K) = 0.3 \\cdot 0.8 = 0.24$\n",
    "\n",
    "$P(E \\cap \\overline{K}) = P(E|\\overline{K})P(\\overline{K}) = P(E|\\overline{K}) \\cdot (1 - P(K)) = 0.05 \\cdot 0.2 = 0.01$\n",
    "\n",
    "---\n",
    "\n",
    "$P(K|M) = \\dfrac{P(M|K)P(K)}{P(M)} = \\dfrac{0.3 \\cdot 0.8}{0.27} = 0.89$\n",
    "\n",
    "$P(\\overline{K}|M) = 1 - P(K|M) = 1-0.89 = 0.11$\n",
    "\n",
    "$P(M \\cap K) = P(M|K)P(K) = 0.3 \\cdot 0.8 = 0.24$\n",
    "\n",
    "$P(M \\cap \\overline{K}) = P(M|\\overline{K})P(\\overline{K}) = P(M|\\overline{K}) \\cdot (1 - P(K)) = 0.15 \\cdot 0.2 = 0.03$\n",
    "\n",
    "---\n",
    "\n",
    "$P(K|I) = \\dfrac{P(I|K)P(K)}{P(I)} = \\dfrac{0.4 \\cdot 0.8}{0.48} = 0.67$\n",
    "\n",
    "$P(\\overline{K}|I) = 1 - P(K|I) = 1-0.67 = 0.33$\n",
    "\n",
    "$P(I \\cap K) = P(I|K)P(K) = 0.4 \\cdot 0.8 = 0.32$\n",
    "\n",
    "$P(I \\cap \\overline{K}) = P(I|\\overline{K})P(\\overline{K}) = P(I|\\overline{K}) \\cdot (1 - P(K)) = 0.8 \\cdot 0.2 = 0.16$"
   ]
  },
  {
   "cell_type": "markdown",
   "metadata": {},
   "source": [
    "\n",
    "---\n",
    "\n",
    "d) Now determine the simulated values for the probabilities on the branches of the tree (leaves already known) from c) and compare again with the theory.\n",
    "\n",
    "### Solution"
   ]
  },
  {
   "cell_type": "code",
   "execution_count": 56,
   "metadata": {},
   "outputs": [
    {
     "name": "stdout",
     "output_type": "stream",
     "text": [
      "P(E): 0.25\n",
      "P(M): 0.27\n",
      "P(I): 0.48\n",
      "\n",
      "P(K|E): 0.96\n",
      "P(¬K|E): 0.04\n",
      "\n",
      "P(K|M): 0.89\n",
      "P(¬K|M): 0.11\n",
      "\n",
      "P(K|I): 0.67\n",
      "P(¬K|I): 0.33\n",
      "\n",
      "P(E∩K): 0.24\n",
      "P(E∩¬K): 0.01\n",
      "\n",
      "P(M∩K): 0.24\n",
      "P(M∩¬K): 0.03\n",
      "\n",
      "P(I∩K): 0.32\n",
      "P(I∩¬K): 0.16\n"
     ]
    }
   ],
   "source": [
    "PE = (PEK*PK)+(PEN*PN)\n",
    "PM = (PMK*PK)+(PMN*PN)\n",
    "PI = (PIK*PK)+(PIN*PN)\n",
    "print(f\"P(E): {PE}\\nP(M): {round(PM,2)}\\nP(I): {PI}\")\n",
    "\n",
    "PKE = (PEK*PK)/PE\n",
    "PNE = 1 - PKE\n",
    "print(f\"\\nP(K|E): {PKE}\\nP(¬K|E): {round(PNE,2)}\")\n",
    "\n",
    "PKM = (PMK*PK)/PM\n",
    "PNM = 1 - PKM\n",
    "print(f\"\\nP(K|M): {round(PKM,2)}\\nP(¬K|M): {round(PNM,2)}\")\n",
    "\n",
    "PKI = (PIK*PK)/PI\n",
    "PNI = 1 - PKI\n",
    "print(f\"\\nP(K|I): {round(PKI,2)}\\nP(¬K|I): {round(PNI,2)}\")\n",
    "\n",
    "PEandK = PEK*PK\n",
    "PEandN = PEN*PN\n",
    "print(f\"\\nP(E∩K): {round(PEandK,2)}\\nP(E∩¬K): {round(PEandN,2)}\")\n",
    "\n",
    "PMandK = PMK*PK\n",
    "PMandN = PMN*PN\n",
    "print(f\"\\nP(M∩K): {round(PMandK,2)}\\nP(M∩¬K): {round(PMandN,2)}\")\n",
    "\n",
    "PIandK = PIK*PK\n",
    "PIandN = PIN*PN\n",
    "print(f\"\\nP(I∩K): {round(PIandK,2)}\\nP(I∩¬K): {round(PIandN,2)}\")"
   ]
  },
  {
   "cell_type": "markdown",
   "metadata": {},
   "source": [
    "---\n",
    "\n",
    "e) Using a counterexample, prove that the choice of degree program and cantonal affiliation are not independent of each other.\n",
    "\n",
    "### Solution"
   ]
  },
  {
   "cell_type": "markdown",
   "metadata": {},
   "source": []
  },
  {
   "cell_type": "code",
   "execution_count": null,
   "metadata": {},
   "outputs": [],
   "source": []
  }
 ],
 "metadata": {
  "kernelspec": {
   "display_name": "Python 3 (ipykernel)",
   "language": "python",
   "name": "python3"
  }
 },
 "nbformat": 4,
 "nbformat_minor": 4
}
