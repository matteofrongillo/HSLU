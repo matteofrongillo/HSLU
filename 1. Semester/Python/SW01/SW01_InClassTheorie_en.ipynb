{
 "cells": [
  {
   "cell_type": "markdown",
   "metadata": {
    "jp-MarkdownHeadingCollapsed": true
   },
   "source": [
    "# SW01 - Part Theory and InClass\n",
    "\n",
    "*This file is intended as a \"live demo\" in the class (inClass file name).\n",
    "The term \"Theory\" in the file name means that the examples refer to the theory taught.*"
   ]
  },
  {
   "cell_type": "markdown",
   "metadata": {},
   "source": [
    "# This is a title\n",
    "\n",
    "## This is a subtitle\n",
    "\n",
    "### This is a sub-subtitle\n",
    "\n",
    "This is how you write full text.\n",
    "\n",
    "- How to make lists\n",
    "- and multiple entries\n",
    "\n",
    "1. How to number the entries\n",
    "2. One after the other\n"
   ]
  },
  {
   "cell_type": "markdown",
   "metadata": {},
   "source": [
    "## Text formatting\n",
    "\n",
    "You can also easily format text by making it **bold** or *italic*.\n",
    "***Both*** is also possible\n",
    "\n"
   ]
  },
  {
   "cell_type": "markdown",
   "metadata": {},
   "source": [
    "## Code formatting\n",
    "\n",
    "You can also format code in a readable way in text. For example, the variable `x` or the function ``add(x)``\n",
    "\n",
    "It is also possible to define entire code blocks in Markdown:\n",
    "\n",
    "```python\n",
    "# this is a Python code block in Markdown\n",
    "print(\"Hello World\")\n",
    "```"
   ]
  },
  {
   "cell_type": "markdown",
   "metadata": {},
   "source": [
    "***"
   ]
  },
  {
   "cell_type": "markdown",
   "metadata": {},
   "source": [
    "# Insert images\n",
    "\n",
    "How to insert images\n",
    "```\n",
    "![Picture Caption](Link)\n",
    "```\n",
    "\n",
    "![Python Icon](https://static.wixstatic.com/media/4bef97_3fca4225935f490783ac9ecb3f27a8b1~mv2.png/v1/fill/w_256,h_256,al_c,q_85,usm_0.66_1.00_0.01,enc_auto/python_logo.png)"
   ]
  },
  {
   "cell_type": "markdown",
   "metadata": {},
   "source": [
    "## Links\n",
    "\n",
    "And this is how links can be inserted formatted: `[Link_Name](URL)`\n",
    "\n",
    "- [Markdown_Cheat_Sheet_1](https://github.com/adam-p/markdown-here/wiki/Markdown-Cheatsheet)\n",
    "- [Markdown_Cheat_Sheet_2](https://www.markdownguide.org/cheat-sheet/)"
   ]
  },
  {
   "cell_type": "markdown",
   "metadata": {},
   "source": [
    "***"
   ]
  },
  {
   "cell_type": "markdown",
   "metadata": {},
   "source": [
    "# Code Cells"
   ]
  },
  {
   "cell_type": "code",
   "execution_count": 4,
   "metadata": {},
   "outputs": [],
   "source": [
    "x = 10"
   ]
  },
  {
   "cell_type": "code",
   "execution_count": 6,
   "metadata": {},
   "outputs": [
    {
     "name": "stdout",
     "output_type": "stream",
     "text": [
      "10\n"
     ]
    }
   ],
   "source": [
    "print(x)"
   ]
  },
  {
   "cell_type": "code",
   "execution_count": 7,
   "metadata": {},
   "outputs": [
    {
     "name": "stdout",
     "output_type": "stream",
     "text": [
      "Hello World\n"
     ]
    }
   ],
   "source": [
    "print(\"Hello World\")"
   ]
  },
  {
   "cell_type": "code",
   "execution_count": 8,
   "metadata": {},
   "outputs": [
    {
     "data": {
      "text/plain": [
       "'\\nThis is a comment - block\\n\\n    room for several lines\\n'"
      ]
     },
     "execution_count": 8,
     "metadata": {},
     "output_type": "execute_result"
    }
   ],
   "source": [
    "# This is a single comment line in Python \n",
    "\n",
    "\n",
    "\"\"\"\n",
    "This is a comment - block\n",
    "\n",
    "    room for several lines\n",
    "\"\"\""
   ]
  },
  {
   "cell_type": "code",
   "execution_count": 11,
   "metadata": {},
   "outputs": [],
   "source": [
    "# Variable Definition\n",
    "x = 10\n",
    "\n",
    "\n",
    "def add(x,y):\n",
    "    \"\"\"\n",
    "    Adds x and y together\n",
    "\n",
    "    x: int, Summand 1\n",
    "    y: int, Summand 2\n",
    "    \n",
    "    return: z: int (x + y)\n",
    "    \"\"\"\n",
    "    z = x + y\n",
    "    return z "
   ]
  },
  {
   "cell_type": "markdown",
   "metadata": {},
   "source": [
    "***"
   ]
  },
  {
   "cell_type": "markdown",
   "metadata": {},
   "source": [
    "### gcd algorithm - example code in Python\n",
    "you don't need to understand this code yet, but at the end of this module..."
   ]
  },
  {
   "cell_type": "code",
   "execution_count": 12,
   "metadata": {},
   "outputs": [
    {
     "name": "stdout",
     "output_type": "stream",
     "text": [
      "the ggt of 108 and 36:\n",
      "36\n"
     ]
    }
   ],
   "source": [
    "# ggT example in Python - you don't need to understand this code yet, but at the end of this module...\n",
    "\n",
    "a = 108\n",
    "b = 36\n",
    "print(f\"the ggt of {a} and {b}:\")\n",
    "\n",
    "while a != b:\n",
    "    if a < b:\n",
    "        a, b = b, a\n",
    "    a = a - b\n",
    "\n",
    "print(f\"{a}\")\n",
    "    "
   ]
  }
 ],
 "metadata": {
  "kernelspec": {
   "display_name": "Python 3 (ipykernel)",
   "language": "python",
   "name": "python3"
  },
  "language_info": {
   "codemirror_mode": {
    "name": "ipython",
    "version": 3
   },
   "file_extension": ".py",
   "mimetype": "text/x-python",
   "name": "python",
   "nbconvert_exporter": "python",
   "pygments_lexer": "ipython3",
   "version": "3.11.9"
  }
 },
 "nbformat": 4,
 "nbformat_minor": 4
}
