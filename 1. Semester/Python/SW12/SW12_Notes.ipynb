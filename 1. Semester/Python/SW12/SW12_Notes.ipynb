{
 "cells": [
  {
   "cell_type": "markdown",
   "metadata": {},
   "source": [
    "## Random variable\n",
    "A random variable $\\Chi$ is a function\n",
    "\n",
    "$X: \\quad \\Omega \\to W_{\\Chi} \\subset \\mathbb{R}$\n",
    "\n",
    "$\\phantom{\\Chi:} \\quad \\omega \\mapsto \\Chi(\\omega)$\n",
    "\n",
    "where $W_{\\Chi}$ is called range of the random variable ${\\Chi}$\n",
    "\n",
    "### Functions\n",
    "Functions of the type $\\Omega \\mapsto \\mathbb{R}$ can be added:\n",
    "\n",
    "$(\\Chi + \\gamma)(\\omega) = \\Chi(\\omega) + \\gamma(\\omega), \\quad \\forall \\omega \\in \\Omega$\n",
    "\n",
    "$(\\Chi \\cdot \\gamma)(\\omega) = \\Chi(\\omega) \\cdot \\gamma(\\omega), \\quad \\forall \\omega \\in \\Omega$\n",
    "\n",
    "### Probability\n",
    "\n",
    "The probability that $\\Chi$ takes the value $x$ is calculated as follow:\n",
    "\n",
    "$\\displaystyle P(\\Chi = x) = P(\\{\\omega | \\Chi(\\omega)\\}) = \\sum_{\\omega;\\Chi(\\omega)=x} P(\\omega)$\n",
    "\n",
    "## Probability distribution\n",
    "The probability distribution of a random variable $\\Chi$ is the specification of the probability of the event $\\Chi = x$ for each realization $x \\in W_{\\Chi}$:\n",
    "\n",
    "$x \\in W_{\\Chi} = P(\\Chi = x)$\n",
    "\n",
    "### Distribution identity\n",
    "For the probability distribution of a discrete random variable $\\Chi$, the sum of the $P(\\Chi = x)$ over all possible realizations $x$ equals one:\n",
    "\n",
    "$\\displaystyle \\sum_{x \\in W_{\\Chi}} P(\\Chi = x) = 1$\n",
    "\n",
    "## Expected value\n",
    "Let $\\Chi$ be a discrete random variable $\\Chi$. The expected value $E(\\Chi) \\in \\mathbb{R}$ of $\\Chi$ is defined as:\n",
    "\n",
    "$\\displaystyle E(\\Chi) = \\sum_{x \\in W_{\\Chi}} xP(\\Chi = x), \\:$ where $W_{\\Chi} :$ range of $\\Chi$.\n",
    "\n",
    "## Variance and Standard Deviation\n",
    "The variance $\\text{Var}(\\Chi) \\in \\mathbb{R}$ and the standard deviation $\\sigma(\\Chi)$ of $\\Chi$ are defined as:\n",
    "\n",
    "$\\text{Var}(\\Chi) \\displaystyle = \\sum_{x \\in W_{\\Chi}} (x - E(\\Chi))^2P(\\Chi = x)$  \n",
    "\n",
    "$\\displaystyle \\sigma(\\Chi) = \\sqrt{\\text{Var}(\\Chi)}$\n",
    "\n",
    "For the variance of a random variable $\\Chi$, we have\n",
    "\n",
    "$\\text{Var}(\\Chi) = E((\\Chi - E(\\Chi))^2)$\n",
    "\n",
    "## Cumulative distribution function\n",
    "The cumulative distribution function of a random variable $\\Chi$ is the function:\n",
    "\n",
    "$\\displaystyle F(x) = P(\\Chi \\leq x) = \\sum_{y\\leq x} P(\\Chi = y)$"
   ]
  },
  {
   "cell_type": "code",
   "execution_count": 3,
   "metadata": {},
   "outputs": [
    {
     "data": {
      "image/png": "[encoded data removed]",
      "text/plain": [
       "<Figure size 640x480 with 1 Axes>"
      ]
     },
     "metadata": {},
     "output_type": "display_data"
    }
   ],
   "source": [
    "import numpy as np\n",
    "import matplotlib.pyplot as plt\n",
    "\n",
    "values_jass=[-1,0,2,3,4,10,11,12]\n",
    "prob_jass=np.array([0,4/9,1/9,1/9,1/9,1/9,1/9,0])\n",
    "cum_jass=np.cumsum(prob_jass)\n",
    "\n",
    "plt.step(values_jass,cum_jass, where='post')\n",
    "plt.show()"
   ]
  },
  {
   "cell_type": "markdown",
   "metadata": {},
   "source": [
    "## Binomial distribution\n",
    "\n",
    "### Bernoulli distribution\n",
    "The distribution of a random variable $\\Chi$ with values $W = \\{0,1\\}$ can be described by a single parameter $p$:\n",
    "\n",
    "$P(\\Chi = 1) = p, \\qquad P(\\Chi = 0) = 1 - p \\qquad 0 \\leq p \\leq 1$\n",
    "\n",
    "This distribution is called the Bernoulli distribution, and we write it as:\n",
    "\n",
    "$\\Chi \\sim Bernoulli(p)$\n",
    "\n",
    "### Binomial $(n,p)$ distribution\n",
    "A random variable $\\Chi$ with values in $\\{0,1,2,...,n\\}$ is said to be binomially distributed with parameters $n$ and $p$ if:\n",
    "\n",
    "$\\displaystyle P(\\Chi = x) = {\\binom n x} p^x(1-p)^{n-x},\\ \\forall x \\in \\{0,1,2,...,n\\}$\n",
    "\n",
    "Here, $0 \\leq p \\leq 1$ is the success parameter of the distribution. We also write:\n",
    "\n",
    "$\\displaystyle \\Chi \\sim {\\binom n p}$ or $\\Chi \\sim \\text{Bin}(n,p)$\n",
    "\n",
    "## Characteristics of the binomial distribution\n",
    "Let $\\Chi \\sim \\text{Bin}(n,p)$. Then the expected value of $\\Chi$ is:\n",
    "\n",
    "$E(\\Chi) = np$\n",
    "\n",
    "The variance of $\\Chi$ is:\n",
    "\n",
    "$\\text{Var}(\\Chi) = np(1-p)$\n",
    "\n",
    "and finally the standard deviation:\n",
    "\n",
    "$\\sigma(\\Chi) = \\sqrt{\\text{Var}(\\Chi)}$"
   ]
  }
 ],
 "metadata": {
  "kernelspec": {
   "display_name": "Python 3 (ipykernel)",
   "language": "python",
   "name": "python3"
  }
 },
 "nbformat": 4,
 "nbformat_minor": 2
}
