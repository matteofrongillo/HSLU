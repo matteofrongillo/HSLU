{
 "cells": [
  {
   "cell_type": "markdown",
   "metadata": {},
   "source": [
    "## Tuples\n",
    "- We cannot change any value inside a tuple, but we can in a list"
   ]
  },
  {
   "cell_type": "code",
   "execution_count": 13,
   "metadata": {},
   "outputs": [
    {
     "name": "stdout",
     "output_type": "stream",
     "text": [
      "(1, 2, 'text', 2.0)\n",
      "1\n"
     ]
    },
    {
     "ename": "TypeError",
     "evalue": "'tuple' object does not support item assignment",
     "output_type": "error",
     "traceback": [
      "\u001b[0;31m---------------------------------------------------------------------------\u001b[0m",
      "\u001b[0;31mTypeError\u001b[0m                                 Traceback (most recent call last)",
      "Cell \u001b[0;32mIn[13], line 4\u001b[0m\n\u001b[1;32m      2\u001b[0m \u001b[38;5;28mprint\u001b[39m(\u001b[38;5;28mtuple\u001b[39m)\n\u001b[1;32m      3\u001b[0m \u001b[38;5;28mprint\u001b[39m(\u001b[38;5;28mtuple\u001b[39m[\u001b[38;5;241m0\u001b[39m])\n\u001b[0;32m----> 4\u001b[0m \u001b[38;5;28;43mtuple\u001b[39;49m\u001b[43m[\u001b[49m\u001b[38;5;241;43m0\u001b[39;49m\u001b[43m]\u001b[49m \u001b[38;5;241m=\u001b[39m \u001b[38;5;241m10\u001b[39m\n\u001b[1;32m      5\u001b[0m \u001b[38;5;28mprint\u001b[39m(\u001b[38;5;28mtuple\u001b[39m)\n",
      "\u001b[0;31mTypeError\u001b[0m: 'tuple' object does not support item assignment"
     ]
    }
   ],
   "source": [
    "tuple = (1,2,\"text\",2.0)\n",
    "print(tuple)\n",
    "print(tuple[0])\n",
    "tuple[0] = 10\n",
    "print(tuple)"
   ]
  },
  {
   "cell_type": "code",
   "execution_count": 12,
   "metadata": {},
   "outputs": [
    {
     "name": "stdout",
     "output_type": "stream",
     "text": [
      "[1, 2, 'text', 2.0]\n",
      "1\n",
      "[10, 2, 'text', 2.0]\n"
     ]
    }
   ],
   "source": [
    "list = [1,2,\"text\",2.0]\n",
    "print(list)\n",
    "print(list[0])\n",
    "list[0] = 10\n",
    "print(list)"
   ]
  },
  {
   "cell_type": "code",
   "execution_count": 19,
   "metadata": {},
   "outputs": [
    {
     "name": "stdout",
     "output_type": "stream",
     "text": [
      "Value 1 at index 0\n",
      "Value 2 at index 1\n",
      "Value text at index 2\n",
      "Value 2.0 at index 3\n"
     ]
    }
   ],
   "source": [
    "for idx,value in enumerate(tuple):\n",
    "    print(f\"Value {value} at index {idx}\")"
   ]
  },
  {
   "cell_type": "code",
   "execution_count": 37,
   "metadata": {},
   "outputs": [
    {
     "name": "stdout",
     "output_type": "stream",
     "text": [
      "1 2\n",
      "2 1\n"
     ]
    }
   ],
   "source": [
    "tuple_2 = (1,2)\n",
    "x,y = tuple_2\n",
    "print(x,y)\n",
    "\n",
    "x,y = y,x\n",
    "print(x,y)"
   ]
  },
  {
   "cell_type": "code",
   "execution_count": 35,
   "metadata": {},
   "outputs": [
    {
     "name": "stdout",
     "output_type": "stream",
     "text": [
      "1 2 text\n",
      "1 2 2.0\n"
     ]
    }
   ],
   "source": [
    "a,b,c, *rest = tuple \n",
    "print(a,b,c)\n",
    "\n",
    "a,b, *middle, c = tuple\n",
    "print(a,b,c)"
   ]
  },
  {
   "cell_type": "markdown",
   "metadata": {},
   "source": [
    "## Nested dictionaries"
   ]
  },
  {
   "cell_type": "code",
   "execution_count": 46,
   "metadata": {},
   "outputs": [
    {
     "name": "stdout",
     "output_type": "stream",
     "text": [
      "{'Mon': 'Math', 'Tue': 'Phy'}\n",
      "{'Mon': 'Math', 'Tue': 'Phy', 'Test': 10000}\n"
     ]
    }
   ],
   "source": [
    "dict = {}\n",
    "\n",
    "dict[\"Mon\"] = \"Math\"\n",
    "dict[\"Tue\"] = \"Phy\"\n",
    "\n",
    "print(dict)\n",
    "\n",
    "dict[\"Test\"] = 10_000\n",
    "print(dict)"
   ]
  },
  {
   "cell_type": "code",
   "execution_count": 51,
   "metadata": {},
   "outputs": [
    {
     "name": "stdout",
     "output_type": "stream",
     "text": [
      "{'Father': {'Age': 60, 'Name': 'Tom', 'Hobbie': {'Hobby 1': 'Climbing', 'Hobby 2': 'Pianist'}}}\n"
     ]
    }
   ],
   "source": [
    "family = {}\n",
    "\n",
    "family[\"Father\"] = {}\n",
    "family[\"Father\"][\"Age\"] = 60\n",
    "family[\"Father\"][\"Name\"] = \"Tom\"\n",
    "family[\"Father\"][\"Hobbie\"] = {}\n",
    "family[\"Father\"][\"Hobbie\"][\"Hobby 1\"] = \"Climbing\"\n",
    "family[\"Father\"][\"Hobbie\"][\"Hobby 2\"] = \"Pianist\"\n",
    "\n",
    "print(family)"
   ]
  },
  {
   "cell_type": "code",
   "execution_count": 63,
   "metadata": {},
   "outputs": [
    {
     "name": "stdout",
     "output_type": "stream",
     "text": [
      "{'Father': {'Name': 'Tom'}}\n"
     ]
    }
   ],
   "source": [
    "fam = {\n",
    "    \"Father\": {\n",
    "        \"Name\":\"Tom\"\n",
    "    }\n",
    "}\n",
    "\n",
    "print(fam)"
   ]
  }
 ],
 "metadata": {
  "kernelspec": {
   "display_name": "Python 3",
   "language": "python",
   "name": "python3"
  },
  "language_info": {
   "codemirror_mode": {
    "name": "ipython",
    "version": 3
   },
   "file_extension": ".py",
   "mimetype": "text/x-python",
   "name": "python",
   "nbconvert_exporter": "python",
   "pygments_lexer": "ipython3",
   "version": "3.12.7"
  }
 },
 "nbformat": 4,
 "nbformat_minor": 2
}
