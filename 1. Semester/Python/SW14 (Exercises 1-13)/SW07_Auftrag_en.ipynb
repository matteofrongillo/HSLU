{
 "cells": [
  {
   "cell_type": "markdown",
   "metadata": {},
   "source": [
    "# Assignment work SW07 - PYTHON BASICS  \n",
    "\n",
    "These are the self-study tasks for the semester week, which you will solve within a week in your JupyterHub environment. After completing your work, download a copy of the Jupyter notebook file locally to your laptop (right-click on the file in the JupyterHub file browser -> Download).\n",
    "\n",
    "On ILIAS you will find the corresponding scheduled work assignments every week, where you will upload your solved Jupyter notebook file. After you have submitted your work, you will receive a corresponding sample solution for the work assignment. Your submission will not be corrected. Although the work assignments are marked \"mandatory\", there are no tests in the module. The grades from the tests during the semester count.\n",
    "\n",
    "We wish you much success!"
   ]
  },
  {
   "cell_type": "markdown",
   "metadata": {},
   "source": [
    "***  \n",
    "## Task 1 - Product of digits  \n",
    "\n",
    "Write a program that reads an N-digit integer from the console and returns the product of the digits as an integer.\n",
    "To do this, implement a function that you call with the number input.\n",
    "\n",
    "The output on the console after entering e.g. **1234** should look something like this:\n",
    "\n",
    "```\n",
    "the product of the digits of the number 1234 is: 24\n",
    "```"
   ]
  },
  {
   "cell_type": "code",
   "execution_count": 60,
   "metadata": {},
   "outputs": [
    {
     "name": "stdout",
     "output_type": "stream",
     "text": [
      "the product of the digits of the number 1234 is: 24\n"
     ]
    }
   ],
   "source": [
    "nr = list(input(\"digit any positive integer number: \"))\n",
    "\n",
    "prod = 1\n",
    "for _ in nr:\n",
    "    prod *= int(_)\n",
    "print(\"the product of the digits of the number 1234 is:\", prod)\n"
   ]
  },
  {
   "cell_type": "markdown",
   "metadata": {},
   "source": [
    "***  \n",
    "## Task 2 - Lotto numbers  \n",
    "\n",
    "Write a function ```gen_lottonumbers(low:int, high:int, numbers:int)->list:``` in Python, which returns a list of 6 different lottery numbers sorted in the range 1 to 42. Then call this function and return the list on the console\n",
    "\n",
    "*Tip: Use the sample function (or alternatively the randrange function) from the random module*\n",
    "\n",
    "The output on the console should appear as follows (with randomly generated numbers):\n",
    "```python\n",
    "[8, 17, 22, 29, 39, 41]\n",
    "```"
   ]
  },
  {
   "cell_type": "code",
   "execution_count": null,
   "metadata": {},
   "outputs": [],
   "source": []
  },
  {
   "cell_type": "markdown",
   "metadata": {},
   "source": [
    "***  \n",
    "## Task 3 - simplest password generator  \n",
    "\n",
    "You write a simple password generation function ```def gen_password(word:str)->str:```, which replaces all vowels in the parameter ```word``` with a randomly chosen special character from the list ```special_chars = ['@', '#', '$', '%', '&', '*', '!', '?', '~']```. To do this, use the function ```random.choice()```. At the end, return the newly generated word. Call the function with different words and return these new words on the console.\n",
    "\n",
    "A call with **ThomaS** could look like this on the console:\n",
    "```\n",
    "ThomaS -> Th@m%S\n",
    "```\n",
    "\n",
    "*Note: this password generation function is only of didactic value ;-)*"
   ]
  },
  {
   "cell_type": "code",
   "execution_count": 183,
   "metadata": {},
   "outputs": [
    {
     "name": "stdout",
     "output_type": "stream",
     "text": [
      "Th@m%s\n"
     ]
    }
   ],
   "source": [
    "import random\n",
    "\n",
    "special_chars = ['@', '#', '$', '%', '&', '*', '!', '?', '~']\n",
    "\n",
    "def gen_password(word:str)->str:\n",
    "    vowel_list = [\"a\",\"e\",\"i\",\"o\",\"u\"]\n",
    "    word_list = []\n",
    "    for elem in word:\n",
    "        if elem in vowel_list:\n",
    "            elem = random.choice(special_chars)\n",
    "        word_list.append(elem)\n",
    "        word_str = str().join(word_list)\n",
    "    return word_str\n",
    "\n",
    "print(gen_password(\"Thomas\"))"
   ]
  },
  {
   "cell_type": "markdown",
   "metadata": {},
   "source": [
    "***  \n",
    "## Task 4 - Request UV Index  \n",
    "\n",
    "The following Python code is given, which retrieves the current weather data from a city - here London - and returns it as JSON or a dictionary.\n",
    "\n",
    "Write a program based on the code specification that asks the user to enter a city and outputs the city name with the current temperature, the sky coverage in % and the UV index on the console, such as:\n",
    "\n",
    "```\n",
    "In Stans the temperature is 24°, the sky is covered with 0% of clouds and UV index: 6\n",
    "```\n"
   ]
  },
  {
   "cell_type": "code",
   "execution_count": 1,
   "metadata": {},
   "outputs": [
    {
     "name": "stdout",
     "output_type": "stream",
     "text": [
      "{  'current_condition': [  {  'FeelsLikeC': '1',\n",
      "                              'FeelsLikeF': '33',\n",
      "                              'cloudcover': '0',\n",
      "                              'humidity': '93',\n",
      "                              'localObsDateTime': '2025-01-11 09:10 PM',\n",
      "                              'observation_time': '09:10 PM',\n",
      "                              'precipInches': '0.0',\n",
      "                              'precipMM': '0.0',\n",
      "                              'pressure': '1035',\n",
      "                              'pressureInches': '31',\n",
      "                              'temp_C': '1',\n",
      "                              'temp_F': '34',\n",
      "                              'uvIndex': '0',\n",
      "                              'visibility': '8',\n",
      "                              'visibilityMiles': '4',\n",
      "                              'weatherCode': '113',\n",
      "                              'weatherDesc': [...],\n",
      "                              'weatherIconUrl': [...],\n",
      "                              'winddir16Point': 'NNE',\n",
      "                              'winddirDegree': '15',\n",
      "                              'windspeedKmph': '4',\n",
      "                              'windspeedMiles': '2'}],\n",
      "   'nearest_area': [  {  'areaName': [...],\n",
      "                         'country': [...],\n",
      "                         'latitude': '51.517',\n",
      "                         'longitude': '-0.106',\n",
      "                         'population': '7421228',\n",
      "                         'region': [...],\n",
      "                         'weatherUrl': [...]}],\n",
      "   'request': [{'query': 'Lat 51.51 and Lon -0.13', 'type': 'LatLon'}],\n",
      "   'weather': [  {  'astronomy': [...],\n",
      "                    'avgtempC': '1',\n",
      "                    'avgtempF': '34',\n",
      "                    'date': '2025-01-11',\n",
      "                    'hourly': [...],\n",
      "                    'maxtempC': '3',\n",
      "                    'maxtempF': '37',\n",
      "                    'mintempC': '0',\n",
      "                    'mintempF': '32',\n",
      "                    'sunHour': '8.0',\n",
      "                    'totalSnow_cm': '0.0',\n",
      "                    'uvIndex': '0'},\n",
      "                 {  'astronomy': [...],\n",
      "                    'avgtempC': '1',\n",
      "                    'avgtempF': '34',\n",
      "                    'date': '2025-01-12',\n",
      "                    'hourly': [...],\n",
      "                    'maxtempC': '3',\n",
      "                    'maxtempF': '38',\n",
      "                    'mintempC': '0',\n",
      "                    'mintempF': '33',\n",
      "                    'sunHour': '8.0',\n",
      "                    'totalSnow_cm': '0.0',\n",
      "                    'uvIndex': '0'},\n",
      "                 {  'astronomy': [...],\n",
      "                    'avgtempC': '2',\n",
      "                    'avgtempF': '35',\n",
      "                    'date': '2025-01-13',\n",
      "                    'hourly': [...],\n",
      "                    'maxtempC': '5',\n",
      "                    'maxtempF': '40',\n",
      "                    'mintempC': '1',\n",
      "                    'mintempF': '33',\n",
      "                    'sunHour': '8.0',\n",
      "                    'totalSnow_cm': '0.0',\n",
      "                    'uvIndex': '0'}]}\n"
     ]
    }
   ],
   "source": [
    "# this code is given\n",
    "import requests\n",
    "import pprint\n",
    "pp = pprint.PrettyPrinter(depth=3, indent = 3)\n",
    "\n",
    "# Stadtname\n",
    "city = \"London\"\n",
    "# URL des Webservices, der das Wetter liefert\n",
    "url = f\"https://wttr.in/{city}?format=j1\"\n",
    "\n",
    "# Anfrage an den Webservice senden\n",
    "response = requests.get(url)\n",
    "\n",
    "# Überprüfen, ob die Anfrage erfolgreich war\n",
    "if response.status_code == 200:\n",
    "    # JSON-Antwort parsen\n",
    "    data = response.json()\n",
    "else:\n",
    "    print(\"Fehler bei der Anfrage:\", response.status_code)\n",
    "\n",
    "pp.pprint(data)"
   ]
  },
  {
   "cell_type": "code",
   "execution_count": null,
   "metadata": {},
   "outputs": [],
   "source": [
    "city = input(\"Insert a city: \")\n",
    "url = f\"https://wttr.in/{city}?format=j1\"\n",
    "response = requests.get(url)\n",
    "\n",
    "if response.status_code == 200:\n",
    "    # JSON-Antwort parsen\n",
    "    data = response.json()\n",
    "\n",
    "    temp = data[\"current_condition\"][0][\"temp_C\"]\n",
    "    cloudcover = data[\"current_condition\"][0][\"cloudcover\"]\n",
    "    uvIndex = data[\"current_condition\"][0][\"uvIndex\"]\n",
    "\n",
    "    print(f\"In {city} the temperature is {temp}°C, the sky is covered with {cloudcover}% of clouds and UV index: {uvIndex}\")\n",
    "else:\n",
    "    print(\"Fehler bei der Anfrage:\", response.status_code)"
   ]
  },
  {
   "cell_type": "markdown",
   "metadata": {},
   "source": [
    "***  \n",
    "end  "
   ]
  }
 ],
 "metadata": {
  "kernelspec": {
   "display_name": "base",
   "language": "python",
   "name": "python3"
  },
  "language_info": {
   "codemirror_mode": {
    "name": "ipython",
    "version": 3
   },
   "file_extension": ".py",
   "mimetype": "text/x-python",
   "name": "python",
   "nbconvert_exporter": "python",
   "pygments_lexer": "ipython3",
   "version": "3.12.4"
  }
 },
 "nbformat": 4,
 "nbformat_minor": 4
}
